{
 "cells": [
  {
   "cell_type": "markdown",
   "metadata": {},
   "source": [
    "### Resources\n",
    "#### https://catalog.data.gov/dataset/census-api-by-coordinates\n",
    "#### https://www.programmableweb.com/category/all/apis?keyword=zip%20code\n",
    "#### https://www.census.gov/geo/maps-data/data/geocoder.html\n",
    "#### https://www.census.gov/data/developers/data-sets/popest-popproj.html\n",
    "#### https://www.census.gov/content/dam/Census/data/developers/api-user-guide/api-guide.pdf"
   ]
  },
  {
   "cell_type": "code",
   "execution_count": 14,
   "metadata": {},
   "outputs": [],
   "source": [
    "#import libraries and api keys\n",
    "import pandas as pd\n",
    "import numpy as np\n",
    "import matplotlib.pyplot as plt\n",
    "import csv\n",
    "import os\n",
    "import requests\n",
    "import json\n",
    "from sklearn.linear_model import LinearRegression\n",
    "from sklearn.preprocessing import PolynomialFeatures\n",
    "from sklearn.pipeline import make_pipeline\n",
    "from sklearn.model_selection import train_test_split\n",
    "from sklearn.metrics import r2_score\n",
    "from sklearn import datasets, linear_model\n",
    "from sklearn.linear_model import LinearRegression\n",
    "import statsmodels.api as sm\n",
    "from scipy import stats"
   ]
  },
  {
   "cell_type": "markdown",
   "metadata": {},
   "source": [
    "## Gather Zip Codes within 20 mile radius of city"
   ]
  },
  {
   "cell_type": "code",
   "execution_count": 15,
   "metadata": {},
   "outputs": [],
   "source": [
    "# Create a dictionary of the cities' names and their zipcodes\n",
    "cities = {'Cleveland':44114,\n",
    "          'LA': 90071,\n",
    "          'Austin': 78705,\n",
    "          'NYC': 10019,\n",
    "          'Denver': 80202\n",
    "         }\n",
    "# APi key for https://www.zipcodeapi.com/API\n",
    "api = \"F1Q5equ8jewDKQnEnJ5o2SYzmUj0WJr7wjbvYlHLG1xlGqrc5XNzVYYRC4RB3cT1\"\n",
    "\n",
    "# Loop through the cities to get the required zip_code\n",
    "for city in cities:\n",
    "    # Create an api request from the website \n",
    "    data_1 = requests.get(f\"https://www.zipcodeapi.com/rest/F1Q5equ8jewDKQnEnJ5o2SYzmUj0WJr7wjbvYlHLG1xlGqrc5XNzVYYRC4RB3cT1/radius.csv/{cities[city]}/20/mile\")\n",
    "    \n",
    "    # Create an empty list to save the results later\n",
    "    zipcode_data = []\n",
    "    # Get the text as str for further processing and slpit them\n",
    "    text = data_1.text\n",
    "    for row in text.split('\\n'):\n",
    "        zipcode_data.append(row.split(','))\n",
    "    \n",
    "    # Create a data Frame for the results collected from preivous step\n",
    "    df = pd.DataFrame(zipcode_data)\n",
    "    #Set the columns index \n",
    "    df = df.set_axis(['zip_code','distance','city','state'], axis='columns', inplace=False)\n",
    "    # Drop the first row which contains unnecessarily string data\n",
    "    df = df.drop(0)\n",
    "    # Convert to a numeric data from distance\n",
    "    df['distance'] = pd.to_numeric(df['distance'])\n",
    "    # Sort the values by ascending order\n",
    "    df = df.sort_values(by='distance', ascending=True)\n",
    "    # Save it to a csv file by the city name\n",
    "    df.to_csv(f'Zipcodes/{city}.csv')"
   ]
  },
  {
   "cell_type": "markdown",
   "metadata": {},
   "source": [
    "## Merge zip codes, ZCTA and median age data into single dataframe"
   ]
  },
  {
   "cell_type": "code",
   "execution_count": 16,
   "metadata": {},
   "outputs": [],
   "source": [
    "#define city function\n",
    "def city_age(city_name):\n",
    "\n",
    "    #load in csv files for each city\n",
    "    city_file = \"Zipcodes/\" + city_name + \".csv\"\n",
    "    city_df = pd.read_csv(city_file)\n",
    "    city_df = city_df.drop(city_df.columns[0], axis=1)\n",
    "    city_df['zip_code'] = city_df['zip_code'].astype(str).str[:-2]\n",
    "\n",
    "    #https://www.udsmapper.org/zcta-crosswalk.cfm\n",
    "    #load in csv for ZTAC info\n",
    "    zip_file = \"Zipcodes/zip_to_zcta_2018.csv\"\n",
    "    zip_df = pd.read_csv(zip_file)\n",
    "\n",
    "    #convert zip code to string to add back zeroes\n",
    "    zip_df[\"zip_code\"] = zip_df[\"zip_code\"].astype(str)\n",
    "\n",
    "    for index, row in zip_df.iterrows():\n",
    "    \n",
    "        length = len(zip_df.at[index, \"zip_code\"])\n",
    "        ZIP = zip_df.at[index, \"zip_code\"]\n",
    "    \n",
    "        if (5 - length) == 2:\n",
    "            new_zip = \"00\" + ZIP\n",
    "            zip_df.at[index, \"zip_code\"] = new_zip\n",
    "        else:\n",
    "            if (5 - length) == 1:\n",
    "                new_zip = \"0\" + ZIP\n",
    "                zip_df.at[index, \"zip_code\"] = new_zip\n",
    "\n",
    "    #convert zcta to string to add back zeroes\n",
    "    zip_df[\"zcta\"] = zip_df[\"zcta\"].astype(str)\n",
    "\n",
    "    for index, row in zip_df.iterrows():\n",
    "    \n",
    "        length = len(zip_df.at[index, \"zcta\"])\n",
    "        ZCTA = zip_df.at[index, \"zcta\"]\n",
    "    \n",
    "        if (5 - length) == 2:\n",
    "            new_zcta = \"00\" + ZCTA\n",
    "            zip_df.at[index, \"zcta\"] = new_zcta\n",
    "        else:\n",
    "            if (5 - length) == 1:\n",
    "                new_zcta = \"0\" + ZCTA\n",
    "                zip_df.at[index, \"zcta\"] = new_zcta\n",
    "            \n",
    "    #join ZCTA data to city df\n",
    "    df_merge = pd.merge(city_df, zip_df, on=\"zip_code\")\n",
    "\n",
    "    #create data frame for zip to zcta mapping\n",
    "    age_file = \"Zipcodes/DEC_10_SF1_QTP1_with_ann.csv\"\n",
    "    age_df = pd.read_csv(age_file)\n",
    "\n",
    "    #convert zcta to string to add back zeroes\n",
    "    age_df[\"zcta\"] = age_df[\"zcta\"].astype(str)\n",
    "\n",
    "    for index, row in age_df.iterrows():\n",
    "    \n",
    "        length = len(age_df.at[index, \"zcta\"])\n",
    "        ZCTA2 = age_df.at[index, \"zcta\"]\n",
    "    \n",
    "        if (5 - length) == 2:\n",
    "            new_zcta2 = \"00\" + ZCTA2\n",
    "            age_df.at[index, \"zcta\"] = new_zcta2\n",
    "        else:\n",
    "            if (5 - length) == 1:\n",
    "                new_zcta2 = \"0\" + ZCTA2\n",
    "                age_df.at[index, \"zcta\"] = new_zcta2\n",
    "\n",
    "    df_final= pd.merge(df_merge, age_df, on=\"zcta\")\n",
    "    clean_df = df_final[df_final[\"median age\"] != 0]\n",
    "    clean_df.reset_index(inplace=True, drop=True)\n",
    "    return clean_df.head()"
   ]
  },
  {
   "cell_type": "markdown",
   "metadata": {},
   "source": [
    "## Create Dataframe for each City"
   ]
  },
  {
   "cell_type": "code",
   "execution_count": 17,
   "metadata": {},
   "outputs": [
    {
     "data": {
      "text/html": [
       "<div>\n",
       "<style scoped>\n",
       "    .dataframe tbody tr th:only-of-type {\n",
       "        vertical-align: middle;\n",
       "    }\n",
       "\n",
       "    .dataframe tbody tr th {\n",
       "        vertical-align: top;\n",
       "    }\n",
       "\n",
       "    .dataframe thead th {\n",
       "        text-align: right;\n",
       "    }\n",
       "</style>\n",
       "<table border=\"1\" class=\"dataframe\">\n",
       "  <thead>\n",
       "    <tr style=\"text-align: right;\">\n",
       "      <th></th>\n",
       "      <th>zip_code</th>\n",
       "      <th>distance</th>\n",
       "      <th>city</th>\n",
       "      <th>state</th>\n",
       "      <th>zcta</th>\n",
       "      <th>median age</th>\n",
       "    </tr>\n",
       "  </thead>\n",
       "  <tbody>\n",
       "    <tr>\n",
       "      <th>0</th>\n",
       "      <td>90071</td>\n",
       "      <td>0.000</td>\n",
       "      <td>\"Los Angeles\"</td>\n",
       "      <td>\"CA\"</td>\n",
       "      <td>90071</td>\n",
       "      <td>45.5</td>\n",
       "    </tr>\n",
       "    <tr>\n",
       "      <th>1</th>\n",
       "      <td>90074</td>\n",
       "      <td>0.355</td>\n",
       "      <td>\"Los Angeles\"</td>\n",
       "      <td>\"CA\"</td>\n",
       "      <td>90071</td>\n",
       "      <td>45.5</td>\n",
       "    </tr>\n",
       "    <tr>\n",
       "      <th>2</th>\n",
       "      <td>90081</td>\n",
       "      <td>0.355</td>\n",
       "      <td>\"Los Angeles\"</td>\n",
       "      <td>\"CA\"</td>\n",
       "      <td>90017</td>\n",
       "      <td>29.4</td>\n",
       "    </tr>\n",
       "    <tr>\n",
       "      <th>3</th>\n",
       "      <td>90084</td>\n",
       "      <td>0.355</td>\n",
       "      <td>\"Los Angeles\"</td>\n",
       "      <td>\"CA\"</td>\n",
       "      <td>90017</td>\n",
       "      <td>29.4</td>\n",
       "    </tr>\n",
       "    <tr>\n",
       "      <th>4</th>\n",
       "      <td>90088</td>\n",
       "      <td>0.355</td>\n",
       "      <td>\"Los Angeles\"</td>\n",
       "      <td>\"CA\"</td>\n",
       "      <td>90017</td>\n",
       "      <td>29.4</td>\n",
       "    </tr>\n",
       "  </tbody>\n",
       "</table>\n",
       "</div>"
      ],
      "text/plain": [
       "  zip_code  distance           city state   zcta  median age\n",
       "0    90071     0.000  \"Los Angeles\"  \"CA\"  90071        45.5\n",
       "1    90074     0.355  \"Los Angeles\"  \"CA\"  90071        45.5\n",
       "2    90081     0.355  \"Los Angeles\"  \"CA\"  90017        29.4\n",
       "3    90084     0.355  \"Los Angeles\"  \"CA\"  90017        29.4\n",
       "4    90088     0.355  \"Los Angeles\"  \"CA\"  90017        29.4"
      ]
     },
     "execution_count": 17,
     "metadata": {},
     "output_type": "execute_result"
    }
   ],
   "source": [
    "aus_df = city_age(\"Austin\")\n",
    "cle_df = city_age(\"Cleveland\")\n",
    "den_df = city_age(\"Denver\")\n",
    "nyc_df = city_age(\"NYC\")\n",
    "la_df = city_age(\"LA\")\n",
    "la_df"
   ]
  },
  {
   "cell_type": "markdown",
   "metadata": {},
   "source": [
    "# Create Function for plot, Analysis, and ANOVA"
   ]
  },
  {
   "cell_type": "code",
   "execution_count": 18,
   "metadata": {},
   "outputs": [],
   "source": [
    "# Create function that do scatter plot for the city distance and median age\n",
    "def plot_city(city):\n",
    "    plt.scatter(city['distance'],city['median age'])\n",
    "    plt.xlabel('Distance (mile)')\n",
    "    plt.ylabel('Median Age')\n",
    "    city_row = city[city['distance'] == 0]\n",
    "    city_name = city['city'].reset_index(level=0)\n",
    "    city_name = city_name.values[0,1]\n",
    "    plt.title(f'City: {city_name} Median Age vs Distance')\n",
    "    plt.grid()\n",
    "\n",
    "def Regression(city):\n",
    "    \n",
    "    X_train, X_test, y_train, y_test = train_test_split(city['distance'],city['median age'],test_size= 0.2, random_state = 1)\n",
    "\n",
    "    # Model to fit a linear line\n",
    "    model = LinearRegression()\n",
    "\n",
    "    model.fit((X_train[:, np.newaxis]),y_train)\n",
    "    xfit = np.linspace(0, 20,20 )\n",
    "    yfit = model.predict(xfit[:, np.newaxis])\n",
    "    print(f'model coefficient: {int(model.coef_)}')\n",
    "    print(f'model intercept: {int(model.intercept_)}')\n",
    "    y_predict = model.predict(X_test[:, np.newaxis])\n",
    "    print (f'R_squared is: {r2_score(y_test,y_predict)}')\n",
    "    \n",
    "    plt.scatter(X_train,y_train)\n",
    "    plt.plot(xfit, yfit, 'r-')\n",
    "    plt.xlabel('Distance (mile)')\n",
    "    plt.ylabel('Median Age')\n",
    "    city_row = city[city['distance'] == 0]\n",
    "    city_name = city['city'].reset_index(level=0)\n",
    "    city_name = city_name.values[0,1].replace('\"','')\n",
    "    plt.title(f'City: {city_name} Median Age vs Distance')\n",
    "    plt.grid()\n",
    "    plt.savefig(f'{city_name}.png')\n",
    "    plt.show()\n",
    "\n",
    "def Poly_regress(city):\n",
    "    X_train, X_test, y_train, y_test = train_test_split(city['distance'],city['median age'],test_size= 0.2, random_state = 1)\n",
    "    model_2 = make_pipeline(PolynomialFeatures(2),LinearRegression())\n",
    "    model_2.fit((X_train[:, np.newaxis]),y_train)\n",
    "    xfit = np.linspace(0, 20,20 )\n",
    "    yfit = model_2.predict(xfit[:, np.newaxis])\n",
    "    print(model_2.steps[1][1].coef_)\n",
    "    print(model_2.steps[1][1].intercept_)\n",
    "    # print(f'model coefficient: {int(model_2.coef_)}')\n",
    "    # print(f'model intercept: {int(model_2.intercept_)}')\n",
    "    y_predict = model_2.predict(X_test[:, np.newaxis])\n",
    "    print (f'R_squared is: {r2_score(y_test,y_predict)}')\n",
    "    plt.scatter(X_train,y_train)\n",
    "    plt.plot(xfit, yfit)\n",
    "    city_row = city[city['distance'] == 0]\n",
    "    city_name = city['city'].reset_index(level=0)\n",
    "    city_name = city_name.values[0,1].replace('\"','')\n",
    "    plt.savefig(f'{city_name}.png')\n",
    "\n",
    "def ANOVA(city, degree=1):\n",
    " \n",
    "    # diabetes = datasets.load_diabetes()\n",
    "    X = city['distance']\n",
    "    X_2 = X**2\n",
    "    X_1=pd.DataFrame([X]).T\n",
    "    if degree > 1 :\n",
    "        for degrees in range(1,degree):\n",
    "            X_1 [f'distance_{degrees}'] = X_1['distance']**degrees\n",
    "        \n",
    "    # X_1 ['distance_3'] = X_1['distance']**3\n",
    "    y = pd.DataFrame(city['median age'])\n",
    "    X2 = sm.add_constant(X_1)\n",
    "    est = sm.OLS(y, X2)\n",
    "    est2 = est.fit()\n",
    "    summary = est2.summary()\n",
    "#     city_row = city[city['distance'] == 0]\n",
    "#     city_name = city['city'].reset_index(level=0)\n",
    "#     city_name = city_name.values[0,1]\n",
    "#     file = open(f'{city_name}.txt','w') \n",
    "#     file.write(f'{summary}') \n",
    "#     file.close() \n",
    "    print(est2.summary())\n",
    "    return summary"
   ]
  },
  {
   "cell_type": "markdown",
   "metadata": {},
   "source": [
    "### Cleveland Analysis"
   ]
  },
  {
   "cell_type": "code",
   "execution_count": 25,
   "metadata": {},
   "outputs": [
    {
     "name": "stdout",
     "output_type": "stream",
     "text": [
      "                            OLS Regression Results                            \n",
      "==============================================================================\n",
      "Dep. Variable:             median age   R-squared:                       0.011\n",
      "Model:                            OLS   Adj. R-squared:                 -0.318\n",
      "Method:                 Least Squares   F-statistic:                   0.03465\n",
      "Date:                Tue, 18 Sep 2018   Prob (F-statistic):              0.864\n",
      "Time:                        12:41:59   Log-Likelihood:                -16.636\n",
      "No. Observations:                   5   AIC:                             37.27\n",
      "Df Residuals:                       3   BIC:                             36.49\n",
      "Df Model:                           1                                         \n",
      "Covariance Type:            nonrobust                                         \n",
      "==============================================================================\n",
      "                 coef    std err          t      P>|t|      [0.025      0.975]\n",
      "------------------------------------------------------------------------------\n",
      "const         35.4594      7.533      4.707      0.018      11.485      59.434\n",
      "distance       0.5601      3.009      0.186      0.864      -9.016      10.137\n",
      "==============================================================================\n",
      "Omnibus:                          nan   Durbin-Watson:                   1.261\n",
      "Prob(Omnibus):                    nan   Jarque-Bera (JB):                1.777\n",
      "Skew:                          -1.457   Prob(JB):                        0.411\n",
      "Kurtosis:                       3.196   Cond. No.                         5.43\n",
      "==============================================================================\n",
      "\n",
      "Warnings:\n",
      "[1] Standard Errors assume that the covariance matrix of the errors is correctly specified.\n",
      "model coefficient: 0\n",
      "model intercept: 36\n",
      "R_squared is: 0.0\n"
     ]
    },
    {
     "name": "stderr",
     "output_type": "stream",
     "text": [
      "/anaconda3/lib/python3.6/site-packages/statsmodels/stats/stattools.py:72: ValueWarning: omni_normtest is not valid with less than 8 observations; 5 samples were given.\n",
      "  \"samples were given.\" % int(n), ValueWarning)\n",
      "/anaconda3/lib/python3.6/site-packages/statsmodels/stats/stattools.py:72: ValueWarning: omni_normtest is not valid with less than 8 observations; 5 samples were given.\n",
      "  \"samples were given.\" % int(n), ValueWarning)\n"
     ]
    },
    {
     "data": {
      "image/png": "[encoded data removed]",
      "text/plain": [
       "<Figure size 432x288 with 1 Axes>"
      ]
     },
     "metadata": {},
     "output_type": "display_data"
    }
   ],
   "source": [
    "ANOVA(cle_df,degree=1)\n",
    "Regression(cle_df)"
   ]
  },
  {
   "cell_type": "markdown",
   "metadata": {},
   "source": [
    "### Denver Analysis"
   ]
  },
  {
   "cell_type": "code",
   "execution_count": 20,
   "metadata": {},
   "outputs": [
    {
     "name": "stdout",
     "output_type": "stream",
     "text": [
      "                            OLS Regression Results                            \n",
      "==============================================================================\n",
      "Dep. Variable:             median age   R-squared:                        -inf\n",
      "Model:                            OLS   Adj. R-squared:                   -inf\n",
      "Method:                 Least Squares   F-statistic:                    -3.000\n",
      "Date:                Tue, 18 Sep 2018   Prob (F-statistic):               1.00\n",
      "Time:                        12:40:05   Log-Likelihood:                 151.77\n",
      "No. Observations:                   5   AIC:                            -299.5\n",
      "Df Residuals:                       3   BIC:                            -300.3\n",
      "Df Model:                           1                                         \n",
      "Covariance Type:            nonrobust                                         \n",
      "==============================================================================\n",
      "                 coef    std err          t      P>|t|      [0.025      0.975]\n",
      "------------------------------------------------------------------------------\n",
      "const         32.3000   2.05e-14   1.57e+15      0.000      32.300      32.300\n",
      "distance    8.882e-16   3.38e-15      0.263      0.810   -9.88e-15    1.17e-14\n",
      "==============================================================================\n",
      "Omnibus:                          nan   Durbin-Watson:                   0.040\n",
      "Prob(Omnibus):                    nan   Jarque-Bera (JB):                1.888\n",
      "Skew:                           1.500   Prob(JB):                        0.389\n",
      "Kurtosis:                       3.250   Cond. No.                         13.9\n",
      "==============================================================================\n",
      "\n",
      "Warnings:\n",
      "[1] Standard Errors assume that the covariance matrix of the errors is correctly specified.\n",
      "model coefficient: 0\n",
      "model intercept: 32\n",
      "R_squared is: 1.0\n"
     ]
    },
    {
     "name": "stderr",
     "output_type": "stream",
     "text": [
      "/anaconda3/lib/python3.6/site-packages/statsmodels/stats/stattools.py:72: ValueWarning: omni_normtest is not valid with less than 8 observations; 5 samples were given.\n",
      "  \"samples were given.\" % int(n), ValueWarning)\n",
      "/anaconda3/lib/python3.6/site-packages/statsmodels/regression/linear_model.py:1543: RuntimeWarning: divide by zero encountered in double_scalars\n",
      "  return 1 - self.ssr/self.centered_tss\n",
      "/anaconda3/lib/python3.6/site-packages/statsmodels/stats/stattools.py:72: ValueWarning: omni_normtest is not valid with less than 8 observations; 5 samples were given.\n",
      "  \"samples were given.\" % int(n), ValueWarning)\n"
     ]
    },
    {
     "data": {
      "image/png": "[encoded data removed]",
      "text/plain": [
       "<Figure size 432x288 with 1 Axes>"
      ]
     },
     "metadata": {},
     "output_type": "display_data"
    }
   ],
   "source": [
    "ANOVA(den_df,degree=1)\n",
    "Regression(den_df)"
   ]
  },
  {
   "cell_type": "markdown",
   "metadata": {},
   "source": [
    "### NYC Analysis"
   ]
  },
  {
   "cell_type": "code",
   "execution_count": 21,
   "metadata": {},
   "outputs": [
    {
     "name": "stdout",
     "output_type": "stream",
     "text": [
      "                            OLS Regression Results                            \n",
      "==============================================================================\n",
      "Dep. Variable:             median age   R-squared:                        -inf\n",
      "Model:                            OLS   Adj. R-squared:                   -inf\n",
      "Method:                 Least Squares   F-statistic:                    -3.000\n",
      "Date:                Tue, 18 Sep 2018   Prob (F-statistic):               1.00\n",
      "Time:                        12:40:07   Log-Likelihood:                 153.41\n",
      "No. Observations:                   5   AIC:                            -302.8\n",
      "Df Residuals:                       3   BIC:                            -303.6\n",
      "Df Model:                           1                                         \n",
      "Covariance Type:            nonrobust                                         \n",
      "==============================================================================\n",
      "                 coef    std err          t      P>|t|      [0.025      0.975]\n",
      "------------------------------------------------------------------------------\n",
      "const         37.0000   1.48e-14    2.5e+15      0.000      37.000      37.000\n",
      "distance    3.553e-15   4.29e-15      0.829      0.468   -1.01e-14    1.72e-14\n",
      "==============================================================================\n",
      "Omnibus:                          nan   Durbin-Watson:                   0.308\n",
      "Prob(Omnibus):                    nan   Jarque-Bera (JB):                1.888\n",
      "Skew:                           1.500   Prob(JB):                        0.389\n",
      "Kurtosis:                       3.250   Cond. No.                         8.24\n",
      "==============================================================================\n",
      "\n",
      "Warnings:\n",
      "[1] Standard Errors assume that the covariance matrix of the errors is correctly specified.\n",
      "model coefficient: 0\n",
      "model intercept: 37\n",
      "R_squared is: 1.0\n"
     ]
    },
    {
     "name": "stderr",
     "output_type": "stream",
     "text": [
      "/anaconda3/lib/python3.6/site-packages/statsmodels/stats/stattools.py:72: ValueWarning: omni_normtest is not valid with less than 8 observations; 5 samples were given.\n",
      "  \"samples were given.\" % int(n), ValueWarning)\n",
      "/anaconda3/lib/python3.6/site-packages/statsmodels/regression/linear_model.py:1543: RuntimeWarning: divide by zero encountered in double_scalars\n",
      "  return 1 - self.ssr/self.centered_tss\n",
      "/anaconda3/lib/python3.6/site-packages/statsmodels/stats/stattools.py:72: ValueWarning: omni_normtest is not valid with less than 8 observations; 5 samples were given.\n",
      "  \"samples were given.\" % int(n), ValueWarning)\n"
     ]
    },
    {
     "data": {
      "image/png": "[encoded data removed]",
      "text/plain": [
       "<Figure size 432x288 with 1 Axes>"
      ]
     },
     "metadata": {},
     "output_type": "display_data"
    }
   ],
   "source": [
    "ANOVA(nyc_df,degree=1)\n",
    "Regression(nyc_df)"
   ]
  },
  {
   "cell_type": "markdown",
   "metadata": {},
   "source": [
    "### LA Analysis"
   ]
  },
  {
   "cell_type": "code",
   "execution_count": 22,
   "metadata": {},
   "outputs": [
    {
     "name": "stdout",
     "output_type": "stream",
     "text": [
      "                            OLS Regression Results                            \n",
      "==============================================================================\n",
      "Dep. Variable:             median age   R-squared:                       0.375\n",
      "Model:                            OLS   Adj. R-squared:                  0.167\n",
      "Method:                 Least Squares   F-statistic:                     1.800\n",
      "Date:                Tue, 18 Sep 2018   Prob (F-statistic):              0.272\n",
      "Time:                        12:40:08   Log-Likelihood:                -16.246\n",
      "No. Observations:                   5   AIC:                             36.49\n",
      "Df Residuals:                       3   BIC:                             35.71\n",
      "Df Model:                           1                                         \n",
      "Covariance Type:            nonrobust                                         \n",
      "==============================================================================\n",
      "                 coef    std err          t      P>|t|      [0.025      0.975]\n",
      "------------------------------------------------------------------------------\n",
      "const         45.5000      8.050      5.652      0.011      19.881      71.119\n",
      "distance     -34.0141     25.353     -1.342      0.272    -114.697      46.669\n",
      "==============================================================================\n",
      "Omnibus:                          nan   Durbin-Watson:                   2.083\n",
      "Prob(Omnibus):                    nan   Jarque-Bera (JB):                1.390\n",
      "Skew:                           1.291   Prob(JB):                        0.499\n",
      "Kurtosis:                       2.917   Cond. No.                         7.62\n",
      "==============================================================================\n",
      "\n",
      "Warnings:\n",
      "[1] Standard Errors assume that the covariance matrix of the errors is correctly specified.\n",
      "model coefficient: -30\n",
      "model intercept: 45\n",
      "R_squared is: 0.0\n"
     ]
    },
    {
     "name": "stderr",
     "output_type": "stream",
     "text": [
      "/anaconda3/lib/python3.6/site-packages/statsmodels/stats/stattools.py:72: ValueWarning: omni_normtest is not valid with less than 8 observations; 5 samples were given.\n",
      "  \"samples were given.\" % int(n), ValueWarning)\n",
      "/anaconda3/lib/python3.6/site-packages/statsmodels/stats/stattools.py:72: ValueWarning: omni_normtest is not valid with less than 8 observations; 5 samples were given.\n",
      "  \"samples were given.\" % int(n), ValueWarning)\n"
     ]
    },
    {
     "data": {
      "image/png": "[encoded data removed]",
      "text/plain": [
       "<Figure size 432x288 with 1 Axes>"
      ]
     },
     "metadata": {},
     "output_type": "display_data"
    }
   ],
   "source": [
    "ANOVA(la_df,degree=1)\n",
    "Regression(la_df)"
   ]
  },
  {
   "cell_type": "markdown",
   "metadata": {},
   "source": [
    "### Austin Analysis"
   ]
  },
  {
   "cell_type": "code",
   "execution_count": 23,
   "metadata": {},
   "outputs": [
    {
     "name": "stdout",
     "output_type": "stream",
     "text": [
      "                            OLS Regression Results                            \n",
      "==============================================================================\n",
      "Dep. Variable:             median age   R-squared:                       0.018\n",
      "Model:                            OLS   Adj. R-squared:                 -0.309\n",
      "Method:                 Least Squares   F-statistic:                   0.05468\n",
      "Date:                Tue, 18 Sep 2018   Prob (F-statistic):              0.830\n",
      "Time:                        12:40:10   Log-Likelihood:                -15.327\n",
      "No. Observations:                   5   AIC:                             34.65\n",
      "Df Residuals:                       3   BIC:                             33.87\n",
      "Df Model:                           1                                         \n",
      "Covariance Type:            nonrobust                                         \n",
      "==============================================================================\n",
      "                 coef    std err          t      P>|t|      [0.025      0.975]\n",
      "------------------------------------------------------------------------------\n",
      "const         22.9875      5.695      4.037      0.027       4.864      41.111\n",
      "distance       0.9023      3.858      0.234      0.830     -11.377      13.182\n",
      "==============================================================================\n",
      "Omnibus:                          nan   Durbin-Watson:                   1.626\n",
      "Prob(Omnibus):                    nan   Jarque-Bera (JB):                0.557\n",
      "Skew:                           0.474   Prob(JB):                        0.757\n",
      "Kurtosis:                       1.668   Cond. No.                         3.83\n",
      "==============================================================================\n",
      "\n",
      "Warnings:\n",
      "[1] Standard Errors assume that the covariance matrix of the errors is correctly specified.\n",
      "model coefficient: 6\n",
      "model intercept: 19\n",
      "R_squared is: 0.0\n"
     ]
    },
    {
     "name": "stderr",
     "output_type": "stream",
     "text": [
      "/anaconda3/lib/python3.6/site-packages/statsmodels/stats/stattools.py:72: ValueWarning: omni_normtest is not valid with less than 8 observations; 5 samples were given.\n",
      "  \"samples were given.\" % int(n), ValueWarning)\n",
      "/anaconda3/lib/python3.6/site-packages/statsmodels/stats/stattools.py:72: ValueWarning: omni_normtest is not valid with less than 8 observations; 5 samples were given.\n",
      "  \"samples were given.\" % int(n), ValueWarning)\n"
     ]
    },
    {
     "data": {
      "image/png": "[encoded data removed]",
      "text/plain": [
       "<Figure size 432x288 with 1 Axes>"
      ]
     },
     "metadata": {},
     "output_type": "display_data"
    }
   ],
   "source": [
    "ANOVA(aus_df,degree=1)\n",
    "Regression(aus_df)"
   ]
  },
  {
   "cell_type": "code",
   "execution_count": null,
   "metadata": {},
   "outputs": [],
   "source": []
  }
 ],
 "metadata": {
  "kernelspec": {
   "display_name": "Python 3",
   "language": "python",
   "name": "python3"
  },
  "language_info": {
   "codemirror_mode": {
    "name": "ipython",
    "version": 3
   },
   "file_extension": ".py",
   "mimetype": "text/x-python",
   "name": "python",
   "nbconvert_exporter": "python",
   "pygments_lexer": "ipython3",
   "version": "3.6.5"
  }
 },
 "nbformat": 4,
 "nbformat_minor": 2
}
