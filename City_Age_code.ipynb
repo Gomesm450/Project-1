{
 "cells": [
  {
   "cell_type": "markdown",
   "metadata": {},
   "source": [
    "### Resources\n",
    "#### https://catalog.data.gov/dataset/census-api-by-coordinates\n",
    "#### https://www.programmableweb.com/category/all/apis?keyword=zip%20code\n",
    "#### https://www.census.gov/geo/maps-data/data/geocoder.html\n",
    "#### https://www.census.gov/data/developers/data-sets/popest-popproj.html\n",
    "#### https://www.census.gov/content/dam/Census/data/developers/api-user-guide/api-guide.pdf\n",
    "\n",
    "### zip\n",
    "#### Cleveland: 44114\n",
    "#### LA: 90071\n",
    "#### Austin: 78705\n",
    "#### NYC: 10019\n",
    "#### Denver: 80202"
   ]
  },
  {
   "cell_type": "code",
   "execution_count": 1,
   "metadata": {},
   "outputs": [],
   "source": [
    "#import libraries and api keys\n",
    "import pandas as pd\n",
    "import numpy as np\n",
    "import matplotlib.pyplot as plt\n",
    "import csv\n",
    "import os\n",
    "import requests\n",
    "import json\n",
    "from urllib import \n",
    "#from keys.gitignore import \n",
    "#from keys import "
   ]
  },
  {
   "cell_type": "markdown",
   "metadata": {},
   "source": [
    "# Gather zip codes for cities\n",
    "### Build lat/lng list for the 5 cities\n",
    "### Use Radius by Zip API to return zip codes inside each radius\n",
    "####      Math to remove inner ring from current calculation\n",
    "### Build zip code list for each city/radius"
   ]
  },
  {
   "cell_type": "code",
   "execution_count": 233,
   "metadata": {},
   "outputs": [],
   "source": [
    "# Create a dictionary of the cities' names and their zipcodes\n",
    "cities = {'Cleveland':44114,\n",
    "          'LA': 90071,\n",
    "          'Austin': 78705,\n",
    "          'NYC': 10019,\n",
    "          'Denver': 80202\n",
    "         }\n",
    "# APi key for https://www.zipcodeapi.com/API\n",
    "api = \"F1Q5equ8jewDKQnEnJ5o2SYzmUj0WJr7wjbvYlHLG1xlGqrc5XNzVYYRC4RB3cT1\"\n",
    "\n",
    "# Loop through the cities to get the required zip_code\n",
    "for city in cities:\n",
    "    # Create an api request from the website \n",
    "    data_1 = requests.get(f\"https://www.zipcodeapi.com/rest/F1Q5equ8jewDKQnEnJ5o2SYzmUj0WJr7wjbvYlHLG1xlGqrc5XNzVYYRC4RB3cT1/radius.csv/{cities[city]}/20/mile\")\n",
    "    \n",
    "    # Create an empty list to save the results later\n",
    "    zipcode_data = []\n",
    "    # Get the text as str for further processing and slpit them\n",
    "    text = data_1.text\n",
    "    for row in text.split('\\n'):\n",
    "        zipcode_data.append(row.split(','))\n",
    "    \n",
    "    # Create a data Frame for the results collected from preivous step\n",
    "    df = pd.DataFrame(zipcode_data)\n",
    "    #Set the columns index \n",
    "    df = df.set_axis(['zip_code','distance','city','state'], axis='columns', inplace=False)\n",
    "    # Drop the first row which contains unnecessarily string data\n",
    "    df = df.drop(0)\n",
    "    # Convert to a numeric data from distance\n",
    "    df['distance'] = pd.to_numeric(df['distance'])\n",
    "    # Sort the values by ascending order\n",
    "    df = df.sort_values(by='distance', ascending=True)\n",
    "    # Save it to a csv file by the city name\n",
    "    df.to_csv(f'{city}.csv')"
   ]
  },
  {
   "cell_type": "code",
   "execution_count": null,
   "metadata": {},
   "outputs": [],
   "source": []
  },
  {
   "cell_type": "markdown",
   "metadata": {},
   "source": [
    "# Convert zip coces to ZTAC\n",
    "## Use Census API to return ZTAC for each zip code in list"
   ]
  },
  {
   "cell_type": "code",
   "execution_count": null,
   "metadata": {},
   "outputs": [],
   "source": []
  },
  {
   "cell_type": "markdown",
   "metadata": {},
   "source": [
    "# Lookup ZTAC value against median age in CSV"
   ]
  },
  {
   "cell_type": "code",
   "execution_count": null,
   "metadata": {},
   "outputs": [],
   "source": []
  },
  {
   "cell_type": "markdown",
   "metadata": {},
   "source": [
    "# Create dataframe"
   ]
  },
  {
   "cell_type": "code",
   "execution_count": null,
   "metadata": {},
   "outputs": [],
   "source": []
  },
  {
   "cell_type": "markdown",
   "metadata": {},
   "source": [
    "# Analysis"
   ]
  },
  {
   "cell_type": "code",
   "execution_count": null,
   "metadata": {},
   "outputs": [],
   "source": []
  }
 ],
 "metadata": {
  "kernelspec": {
   "display_name": "Python 3",
   "language": "python",
   "name": "python3"
  },
  "language_info": {
   "codemirror_mode": {
    "name": "ipython",
    "version": 3
   },
   "file_extension": ".py",
   "mimetype": "text/x-python",
   "name": "python",
   "nbconvert_exporter": "python",
   "pygments_lexer": "ipython3",
   "version": "3.6.4"
  }
 },
 "nbformat": 4,
 "nbformat_minor": 2
}
