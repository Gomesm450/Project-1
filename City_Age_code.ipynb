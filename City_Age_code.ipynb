{
 "cells": [
  {
   "cell_type": "markdown",
   "metadata": {},
   "source": [
    "### Resources\n",
    "#### https://catalog.data.gov/dataset/census-api-by-coordinates\n",
    "#### https://www.programmableweb.com/category/all/apis?keyword=zip%20code\n",
    "#### https://www.census.gov/geo/maps-data/data/geocoder.html\n",
    "#### https://www.census.gov/data/developers/data-sets/popest-popproj.html\n",
    "#### https://www.census.gov/content/dam/Census/data/developers/api-user-guide/api-guide.pdf"
   ]
  },
  {
   "cell_type": "code",
   "execution_count": 1,
   "metadata": {},
   "outputs": [],
   "source": [
    "#import libraries and api keys\n",
    "import pandas as pd\n",
    "import numpy as np\n",
    "import matplotlib.pyplot as plt\n",
    "import csv\n",
    "import os\n",
    "import requests\n",
    "import json\n",
    "from urllib import \n",
    "#from keys.gitignore import \n",
    "#from keys import "
   ]
  },
  {
   "cell_type": "markdown",
   "metadata": {},
   "source": [
    "## Gather Zip Codes within 20 mile radius of city"
   ]
  },
  {
   "cell_type": "code",
   "execution_count": 233,
   "metadata": {},
   "outputs": [],
   "source": [
    "# Create a dictionary of the cities' names and their zipcodes\n",
    "cities = {'Cleveland':44114,\n",
    "          'LA': 90071,\n",
    "          'Austin': 78705,\n",
    "          'NYC': 10019,\n",
    "          'Denver': 80202\n",
    "         }\n",
    "# APi key for https://www.zipcodeapi.com/API\n",
    "api = \"F1Q5equ8jewDKQnEnJ5o2SYzmUj0WJr7wjbvYlHLG1xlGqrc5XNzVYYRC4RB3cT1\"\n",
    "\n",
    "# Loop through the cities to get the required zip_code\n",
    "for city in cities:\n",
    "    # Create an api request from the website \n",
    "    data_1 = requests.get(f\"https://www.zipcodeapi.com/rest/F1Q5equ8jewDKQnEnJ5o2SYzmUj0WJr7wjbvYlHLG1xlGqrc5XNzVYYRC4RB3cT1/radius.csv/{cities[city]}/20/mile\")\n",
    "    \n",
    "    # Create an empty list to save the results later\n",
    "    zipcode_data = []\n",
    "    # Get the text as str for further processing and slpit them\n",
    "    text = data_1.text\n",
    "    for row in text.split('\\n'):\n",
    "        zipcode_data.append(row.split(','))\n",
    "    \n",
    "    # Create a data Frame for the results collected from preivous step\n",
    "    df = pd.DataFrame(zipcode_data)\n",
    "    #Set the columns index \n",
    "    df = df.set_axis(['zip_code','distance','city','state'], axis='columns', inplace=False)\n",
    "    # Drop the first row which contains unnecessarily string data\n",
    "    df = df.drop(0)\n",
    "    # Convert to a numeric data from distance\n",
    "    df['distance'] = pd.to_numeric(df['distance'])\n",
    "    # Sort the values by ascending order\n",
    "    df = df.sort_values(by='distance', ascending=True)\n",
    "    # Save it to a csv file by the city name\n",
    "    df.to_csv(f'Zipcodes/{city}.csv')"
   ]
  },
  {
   "cell_type": "markdown",
   "metadata": {},
   "source": [
    "## Merge zip codes, ZCTA and median age data into single dataframe"
   ]
  },
  {
   "cell_type": "code",
   "execution_count": null,
   "metadata": {},
   "outputs": [],
   "source": [
    "#define city function\n",
    "def city_age(city_name):\n",
    "\n",
    "    #load in csv files for each city\n",
    "    city_file = \"Zipcodes/\" + city_name + \".csv\"\n",
    "    city_df = pd.read_csv(city_file)\n",
    "    city_df = city_df.drop(city_df.columns[0], axis=1)\n",
    "    city_df['zip_code'] = city_df['zip_code'].astype(str).str[:-2]\n",
    "\n",
    "    #https://www.udsmapper.org/zcta-crosswalk.cfm\n",
    "    #load in csv for ZTAC info\n",
    "    zip_file = \"Zipcodes/zip_to_zcta_2018.csv\"\n",
    "    zip_df = pd.read_csv(zip_file)\n",
    "\n",
    "    #convert zip code to string to add back zeroes\n",
    "    zip_df[\"zip_code\"] = zip_df[\"zip_code\"].astype(str)\n",
    "\n",
    "    for index, row in zip_df.iterrows():\n",
    "    \n",
    "        length = len(zip_df.at[index, \"zip_code\"])\n",
    "        ZIP = zip_df.at[index, \"zip_code\"]\n",
    "    \n",
    "        if (5 - length) == 2:\n",
    "            new_zip = \"00\" + ZIP\n",
    "            zip_df.at[index, \"zip_code\"] = new_zip\n",
    "        else:\n",
    "            if (5 - length) == 1:\n",
    "                new_zip = \"0\" + ZIP\n",
    "                zip_df.at[index, \"zip_code\"] = new_zip\n",
    "\n",
    "    #convert zcta to string to add back zeroes\n",
    "    zip_df[\"zcta\"] = zip_df[\"zcta\"].astype(str)\n",
    "\n",
    "    for index, row in zip_df.iterrows():\n",
    "    \n",
    "        length = len(zip_df.at[index, \"zcta\"])\n",
    "        ZCTA = zip_df.at[index, \"zcta\"]\n",
    "    \n",
    "        if (5 - length) == 2:\n",
    "            new_zcta = \"00\" + ZCTA\n",
    "            zip_df.at[index, \"zcta\"] = new_zcta\n",
    "        else:\n",
    "            if (5 - length) == 1:\n",
    "                new_zcta = \"0\" + ZCTA\n",
    "                zip_df.at[index, \"zcta\"] = new_zcta\n",
    "            \n",
    "    #join ZCTA data to city df\n",
    "    df_merge = pd.merge(city_df, zip_df, on=\"zip_code\")\n",
    "\n",
    "    #create data frame for zip to zcta mapping\n",
    "    age_file = \"Zipcodes/DEC_10_SF1_QTP1_with_ann.csv\"\n",
    "    age_df = pd.read_csv(age_file)\n",
    "\n",
    "    #convert zcta to string to add back zeroes\n",
    "    age_df[\"zcta\"] = age_df[\"zcta\"].astype(str)\n",
    "\n",
    "    for index, row in age_df.iterrows():\n",
    "    \n",
    "        length = len(age_df.at[index, \"zcta\"])\n",
    "        ZCTA2 = age_df.at[index, \"zcta\"]\n",
    "    \n",
    "        if (5 - length) == 2:\n",
    "            new_zcta2 = \"00\" + ZCTA2\n",
    "            age_df.at[index, \"zcta\"] = new_zcta2\n",
    "        else:\n",
    "            if (5 - length) == 1:\n",
    "                new_zcta2 = \"0\" + ZCTA2\n",
    "                age_df.at[index, \"zcta\"] = new_zcta2\n",
    "\n",
    "    df_final= pd.merge(df_merge, age_df, on=\"zcta\")\n",
    "    clean_df = df_final[df_final[\"median age\"] != 0]\n",
    "    clean_df.reset_index(inplace=True, drop=True)\n",
    "    return clean_df.head()"
   ]
  },
  {
   "cell_type": "markdown",
   "metadata": {},
   "source": [
    "## Create Dataframe for each City"
   ]
  },
  {
   "cell_type": "code",
   "execution_count": null,
   "metadata": {},
   "outputs": [],
   "source": [
    "aus_df = city_age(\"Austin\")\n",
    "cle_df = city_age(\"Cleveland\")\n",
    "den_df = city_age(\"Denver\")\n",
    "nyc_df = city_age(\"NYC\")\n",
    "la_df = city_age(\"LA\")"
   ]
  },
  {
   "cell_type": "markdown",
   "metadata": {},
   "source": [
    "# Analysis"
   ]
  },
  {
   "cell_type": "code",
   "execution_count": null,
   "metadata": {},
   "outputs": [],
   "source": []
  }
 ],
 "metadata": {
  "kernelspec": {
   "display_name": "Python 3",
   "language": "python",
   "name": "python3"
  },
  "language_info": {
   "codemirror_mode": {
    "name": "ipython",
    "version": 3
   },
   "file_extension": ".py",
   "mimetype": "text/x-python",
   "name": "python",
   "nbconvert_exporter": "python",
   "pygments_lexer": "ipython3",
   "version": "3.6.5"
  }
 },
 "nbformat": 4,
 "nbformat_minor": 2
}
