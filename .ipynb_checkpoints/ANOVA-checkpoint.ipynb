{
 "cells": [
  {
   "cell_type": "code",
   "execution_count": 41,
   "metadata": {},
   "outputs": [],
   "source": [
    "#import libraries and api keys\n",
    "import pandas as pd\n",
    "import numpy as np\n",
    "import matplotlib.pyplot as plt\n",
    "import csv\n",
    "import os\n",
    "import requests\n",
    "import json\n",
    "\n",
    "#from keys.gitignore import \n",
    "#from keys import "
   ]
  },
  {
   "cell_type": "code",
   "execution_count": 42,
   "metadata": {},
   "outputs": [
    {
     "data": {
      "text/html": [
       "<div>\n",
       "<style scoped>\n",
       "    .dataframe tbody tr th:only-of-type {\n",
       "        vertical-align: middle;\n",
       "    }\n",
       "\n",
       "    .dataframe tbody tr th {\n",
       "        vertical-align: top;\n",
       "    }\n",
       "\n",
       "    .dataframe thead th {\n",
       "        text-align: right;\n",
       "    }\n",
       "</style>\n",
       "<table border=\"1\" class=\"dataframe\">\n",
       "  <thead>\n",
       "    <tr style=\"text-align: right;\">\n",
       "      <th></th>\n",
       "      <th>zip_code</th>\n",
       "      <th>distance</th>\n",
       "      <th>city</th>\n",
       "      <th>state</th>\n",
       "    </tr>\n",
       "  </thead>\n",
       "  <tbody>\n",
       "    <tr>\n",
       "      <th>0</th>\n",
       "      <td>44286</td>\n",
       "      <td>19.907</td>\n",
       "      <td>Richfield</td>\n",
       "      <td>OH</td>\n",
       "    </tr>\n",
       "    <tr>\n",
       "      <th>1</th>\n",
       "      <td>44233</td>\n",
       "      <td>18.982</td>\n",
       "      <td>Hinckley</td>\n",
       "      <td>OH</td>\n",
       "    </tr>\n",
       "    <tr>\n",
       "      <th>2</th>\n",
       "      <td>44141</td>\n",
       "      <td>15.561</td>\n",
       "      <td>Brecksville</td>\n",
       "      <td>OH</td>\n",
       "    </tr>\n",
       "    <tr>\n",
       "      <th>3</th>\n",
       "      <td>44136</td>\n",
       "      <td>15.988</td>\n",
       "      <td>Strongsville</td>\n",
       "      <td>OH</td>\n",
       "    </tr>\n",
       "    <tr>\n",
       "      <th>4</th>\n",
       "      <td>44087</td>\n",
       "      <td>18.933</td>\n",
       "      <td>Twinsburg</td>\n",
       "      <td>OH</td>\n",
       "    </tr>\n",
       "  </tbody>\n",
       "</table>\n",
       "</div>"
      ],
      "text/plain": [
       "  zip_code  distance          city state\n",
       "0    44286    19.907     Richfield    OH\n",
       "1    44233    18.982      Hinckley    OH\n",
       "2    44141    15.561   Brecksville    OH\n",
       "3    44136    15.988  Strongsville    OH\n",
       "4    44087    18.933     Twinsburg    OH"
      ]
     },
     "execution_count": 42,
     "metadata": {},
     "output_type": "execute_result"
    }
   ],
   "source": [
    "#load in csv files for each city\n",
    "cle_file = \"Zipcodes/Cleveland.csv\"\n",
    "cle_df = pd.read_csv(cle_file)\n",
    "cle_df[\"zip_code\"] = cle_df[\"zip_code\"].astype(str)\n",
    "cle_df.head()"
   ]
  },
  {
   "cell_type": "code",
   "execution_count": 43,
   "metadata": {},
   "outputs": [
    {
     "data": {
      "text/html": [
       "<div>\n",
       "<style scoped>\n",
       "    .dataframe tbody tr th:only-of-type {\n",
       "        vertical-align: middle;\n",
       "    }\n",
       "\n",
       "    .dataframe tbody tr th {\n",
       "        vertical-align: top;\n",
       "    }\n",
       "\n",
       "    .dataframe thead th {\n",
       "        text-align: right;\n",
       "    }\n",
       "</style>\n",
       "<table border=\"1\" class=\"dataframe\">\n",
       "  <thead>\n",
       "    <tr style=\"text-align: right;\">\n",
       "      <th></th>\n",
       "      <th>zip_code</th>\n",
       "      <th>zcta</th>\n",
       "    </tr>\n",
       "  </thead>\n",
       "  <tbody>\n",
       "    <tr>\n",
       "      <th>0</th>\n",
       "      <td>501</td>\n",
       "      <td>11742</td>\n",
       "    </tr>\n",
       "    <tr>\n",
       "      <th>1</th>\n",
       "      <td>544</td>\n",
       "      <td>11742</td>\n",
       "    </tr>\n",
       "    <tr>\n",
       "      <th>2</th>\n",
       "      <td>601</td>\n",
       "      <td>601</td>\n",
       "    </tr>\n",
       "    <tr>\n",
       "      <th>3</th>\n",
       "      <td>602</td>\n",
       "      <td>602</td>\n",
       "    </tr>\n",
       "    <tr>\n",
       "      <th>4</th>\n",
       "      <td>603</td>\n",
       "      <td>603</td>\n",
       "    </tr>\n",
       "  </tbody>\n",
       "</table>\n",
       "</div>"
      ],
      "text/plain": [
       "   zip_code   zcta\n",
       "0       501  11742\n",
       "1       544  11742\n",
       "2       601    601\n",
       "3       602    602\n",
       "4       603    603"
      ]
     },
     "execution_count": 43,
     "metadata": {},
     "output_type": "execute_result"
    }
   ],
   "source": [
    "#https://www.udsmapper.org/zcta-crosswalk.cfm\n",
    "#load in csv for ZTAC info\n",
    "zip_file = \"Zipcodes/zip_to_zcta_2018.csv\"\n",
    "zip_df = pd.read_csv(zip_file)\n",
    "zip_df.head()"
   ]
  },
  {
   "cell_type": "code",
   "execution_count": 44,
   "metadata": {},
   "outputs": [
    {
     "data": {
      "text/html": [
       "<div>\n",
       "<style scoped>\n",
       "    .dataframe tbody tr th:only-of-type {\n",
       "        vertical-align: middle;\n",
       "    }\n",
       "\n",
       "    .dataframe tbody tr th {\n",
       "        vertical-align: top;\n",
       "    }\n",
       "\n",
       "    .dataframe thead th {\n",
       "        text-align: right;\n",
       "    }\n",
       "</style>\n",
       "<table border=\"1\" class=\"dataframe\">\n",
       "  <thead>\n",
       "    <tr style=\"text-align: right;\">\n",
       "      <th></th>\n",
       "      <th>zip_code</th>\n",
       "      <th>zcta</th>\n",
       "    </tr>\n",
       "  </thead>\n",
       "  <tbody>\n",
       "    <tr>\n",
       "      <th>0</th>\n",
       "      <td>00501</td>\n",
       "      <td>11742</td>\n",
       "    </tr>\n",
       "    <tr>\n",
       "      <th>1</th>\n",
       "      <td>00544</td>\n",
       "      <td>11742</td>\n",
       "    </tr>\n",
       "    <tr>\n",
       "      <th>2</th>\n",
       "      <td>00601</td>\n",
       "      <td>00601</td>\n",
       "    </tr>\n",
       "    <tr>\n",
       "      <th>3</th>\n",
       "      <td>00602</td>\n",
       "      <td>00602</td>\n",
       "    </tr>\n",
       "    <tr>\n",
       "      <th>4</th>\n",
       "      <td>00603</td>\n",
       "      <td>00603</td>\n",
       "    </tr>\n",
       "  </tbody>\n",
       "</table>\n",
       "</div>"
      ],
      "text/plain": [
       "  zip_code   zcta\n",
       "0    00501  11742\n",
       "1    00544  11742\n",
       "2    00601  00601\n",
       "3    00602  00602\n",
       "4    00603  00603"
      ]
     },
     "execution_count": 44,
     "metadata": {},
     "output_type": "execute_result"
    }
   ],
   "source": [
    "#convert zip code to string to add back zeroes\n",
    "zip_df[\"zip_code\"] = zip_df[\"zip_code\"].astype(str)\n",
    "\n",
    "for index, row in zip_df.iterrows():\n",
    "    \n",
    "    length = len(zip_df.at[index, \"zip_code\"])\n",
    "    ZIP = zip_df.at[index, \"zip_code\"]\n",
    "    \n",
    "    if (5 - length) == 2:\n",
    "        new_zip = \"00\" + ZIP\n",
    "        zip_df.at[index, \"zip_code\"] = new_zip\n",
    "    else:\n",
    "        if (5 - length) == 1:\n",
    "            new_zip = \"0\" + ZIP\n",
    "            zip_df.at[index, \"zip_code\"] = new_zip\n",
    "\n",
    "#convert zcta to string to add back zeroes\n",
    "zip_df[\"zcta\"] = zip_df[\"zcta\"].astype(str)\n",
    "\n",
    "for index, row in zip_df.iterrows():\n",
    "    \n",
    "    length = len(zip_df.at[index, \"zcta\"])\n",
    "    ZCTA = zip_df.at[index, \"zcta\"]\n",
    "    \n",
    "    if (5 - length) == 2:\n",
    "        new_zcta = \"00\" + ZCTA\n",
    "        zip_df.at[index, \"zcta\"] = new_zcta\n",
    "    else:\n",
    "        if (5 - length) == 1:\n",
    "            new_zcta = \"0\" + ZCTA\n",
    "            zip_df.at[index, \"zcta\"] = new_zcta\n",
    "            \n",
    "zip_df.head()"
   ]
  },
  {
   "cell_type": "code",
   "execution_count": 45,
   "metadata": {},
   "outputs": [
    {
     "data": {
      "text/html": [
       "<div>\n",
       "<style scoped>\n",
       "    .dataframe tbody tr th:only-of-type {\n",
       "        vertical-align: middle;\n",
       "    }\n",
       "\n",
       "    .dataframe tbody tr th {\n",
       "        vertical-align: top;\n",
       "    }\n",
       "\n",
       "    .dataframe thead th {\n",
       "        text-align: right;\n",
       "    }\n",
       "</style>\n",
       "<table border=\"1\" class=\"dataframe\">\n",
       "  <thead>\n",
       "    <tr style=\"text-align: right;\">\n",
       "      <th></th>\n",
       "      <th>zip_code</th>\n",
       "      <th>distance</th>\n",
       "      <th>city</th>\n",
       "      <th>state</th>\n",
       "      <th>zcta</th>\n",
       "    </tr>\n",
       "  </thead>\n",
       "  <tbody>\n",
       "    <tr>\n",
       "      <th>0</th>\n",
       "      <td>44286</td>\n",
       "      <td>19.907</td>\n",
       "      <td>Richfield</td>\n",
       "      <td>OH</td>\n",
       "      <td>44286</td>\n",
       "    </tr>\n",
       "    <tr>\n",
       "      <th>1</th>\n",
       "      <td>44233</td>\n",
       "      <td>18.982</td>\n",
       "      <td>Hinckley</td>\n",
       "      <td>OH</td>\n",
       "      <td>44233</td>\n",
       "    </tr>\n",
       "    <tr>\n",
       "      <th>2</th>\n",
       "      <td>44141</td>\n",
       "      <td>15.561</td>\n",
       "      <td>Brecksville</td>\n",
       "      <td>OH</td>\n",
       "      <td>44141</td>\n",
       "    </tr>\n",
       "    <tr>\n",
       "      <th>3</th>\n",
       "      <td>44136</td>\n",
       "      <td>15.988</td>\n",
       "      <td>Strongsville</td>\n",
       "      <td>OH</td>\n",
       "      <td>44136</td>\n",
       "    </tr>\n",
       "    <tr>\n",
       "      <th>4</th>\n",
       "      <td>44087</td>\n",
       "      <td>18.933</td>\n",
       "      <td>Twinsburg</td>\n",
       "      <td>OH</td>\n",
       "      <td>44087</td>\n",
       "    </tr>\n",
       "  </tbody>\n",
       "</table>\n",
       "</div>"
      ],
      "text/plain": [
       "  zip_code  distance          city state   zcta\n",
       "0    44286    19.907     Richfield    OH  44286\n",
       "1    44233    18.982      Hinckley    OH  44233\n",
       "2    44141    15.561   Brecksville    OH  44141\n",
       "3    44136    15.988  Strongsville    OH  44136\n",
       "4    44087    18.933     Twinsburg    OH  44087"
      ]
     },
     "execution_count": 45,
     "metadata": {},
     "output_type": "execute_result"
    }
   ],
   "source": [
    "#join ZCTA data to city df\n",
    "cle_merge = pd.merge(cle_df, zip_df, on=\"zip_code\")\n",
    "cle_merge.head()"
   ]
  },
  {
   "cell_type": "code",
   "execution_count": 46,
   "metadata": {},
   "outputs": [
    {
     "data": {
      "text/html": [
       "<div>\n",
       "<style scoped>\n",
       "    .dataframe tbody tr th:only-of-type {\n",
       "        vertical-align: middle;\n",
       "    }\n",
       "\n",
       "    .dataframe tbody tr th {\n",
       "        vertical-align: top;\n",
       "    }\n",
       "\n",
       "    .dataframe thead th {\n",
       "        text-align: right;\n",
       "    }\n",
       "</style>\n",
       "<table border=\"1\" class=\"dataframe\">\n",
       "  <thead>\n",
       "    <tr style=\"text-align: right;\">\n",
       "      <th></th>\n",
       "      <th>zcta</th>\n",
       "      <th>median age</th>\n",
       "    </tr>\n",
       "  </thead>\n",
       "  <tbody>\n",
       "    <tr>\n",
       "      <th>0</th>\n",
       "      <td>00601</td>\n",
       "      <td>35.9</td>\n",
       "    </tr>\n",
       "    <tr>\n",
       "      <th>1</th>\n",
       "      <td>00602</td>\n",
       "      <td>37.5</td>\n",
       "    </tr>\n",
       "    <tr>\n",
       "      <th>2</th>\n",
       "      <td>00603</td>\n",
       "      <td>38.2</td>\n",
       "    </tr>\n",
       "    <tr>\n",
       "      <th>3</th>\n",
       "      <td>00606</td>\n",
       "      <td>36.2</td>\n",
       "    </tr>\n",
       "    <tr>\n",
       "      <th>4</th>\n",
       "      <td>00610</td>\n",
       "      <td>38.1</td>\n",
       "    </tr>\n",
       "  </tbody>\n",
       "</table>\n",
       "</div>"
      ],
      "text/plain": [
       "    zcta  median age\n",
       "0  00601        35.9\n",
       "1  00602        37.5\n",
       "2  00603        38.2\n",
       "3  00606        36.2\n",
       "4  00610        38.1"
      ]
     },
     "execution_count": 46,
     "metadata": {},
     "output_type": "execute_result"
    }
   ],
   "source": [
    "age_file = \"Zipcodes/DEC_10_SF1_QTP1_with_ann.csv\"\n",
    "age_df = pd.read_csv(age_file)\n",
    "\n",
    "#convert zcta to string to add back zeroes\n",
    "age_df[\"zcta\"] = age_df[\"zcta\"].astype(str)\n",
    "\n",
    "for index, row in age_df.iterrows():\n",
    "    \n",
    "    length = len(age_df.at[index, \"zcta\"])\n",
    "    ZCTA2 = age_df.at[index, \"zcta\"]\n",
    "    \n",
    "    if (5 - length) == 2:\n",
    "        new_zcta2 = \"00\" + ZCTA2\n",
    "        age_df.at[index, \"zcta\"] = new_zcta2\n",
    "    else:\n",
    "        if (5 - length) == 1:\n",
    "            new_zcta2 = \"0\" + ZCTA2\n",
    "            age_df.at[index, \"zcta\"] = new_zcta2\n",
    "\n",
    "age_df.head()"
   ]
  },
  {
   "cell_type": "code",
   "execution_count": 47,
   "metadata": {
    "scrolled": true
   },
   "outputs": [
    {
     "data": {
      "text/html": [
       "<div>\n",
       "<style scoped>\n",
       "    .dataframe tbody tr th:only-of-type {\n",
       "        vertical-align: middle;\n",
       "    }\n",
       "\n",
       "    .dataframe tbody tr th {\n",
       "        vertical-align: top;\n",
       "    }\n",
       "\n",
       "    .dataframe thead th {\n",
       "        text-align: right;\n",
       "    }\n",
       "</style>\n",
       "<table border=\"1\" class=\"dataframe\">\n",
       "  <thead>\n",
       "    <tr style=\"text-align: right;\">\n",
       "      <th></th>\n",
       "      <th>zip_code</th>\n",
       "      <th>distance</th>\n",
       "      <th>city</th>\n",
       "      <th>state</th>\n",
       "      <th>zcta</th>\n",
       "      <th>median age</th>\n",
       "    </tr>\n",
       "  </thead>\n",
       "  <tbody>\n",
       "    <tr>\n",
       "      <th>0</th>\n",
       "      <td>44286</td>\n",
       "      <td>19.907</td>\n",
       "      <td>Richfield</td>\n",
       "      <td>OH</td>\n",
       "      <td>44286</td>\n",
       "      <td>47.4</td>\n",
       "    </tr>\n",
       "    <tr>\n",
       "      <th>1</th>\n",
       "      <td>44233</td>\n",
       "      <td>18.982</td>\n",
       "      <td>Hinckley</td>\n",
       "      <td>OH</td>\n",
       "      <td>44233</td>\n",
       "      <td>45.3</td>\n",
       "    </tr>\n",
       "    <tr>\n",
       "      <th>2</th>\n",
       "      <td>44141</td>\n",
       "      <td>15.561</td>\n",
       "      <td>Brecksville</td>\n",
       "      <td>OH</td>\n",
       "      <td>44141</td>\n",
       "      <td>47.3</td>\n",
       "    </tr>\n",
       "    <tr>\n",
       "      <th>3</th>\n",
       "      <td>44136</td>\n",
       "      <td>15.988</td>\n",
       "      <td>Strongsville</td>\n",
       "      <td>OH</td>\n",
       "      <td>44136</td>\n",
       "      <td>43.5</td>\n",
       "    </tr>\n",
       "    <tr>\n",
       "      <th>4</th>\n",
       "      <td>44087</td>\n",
       "      <td>18.933</td>\n",
       "      <td>Twinsburg</td>\n",
       "      <td>OH</td>\n",
       "      <td>44087</td>\n",
       "      <td>40.8</td>\n",
       "    </tr>\n",
       "  </tbody>\n",
       "</table>\n",
       "</div>"
      ],
      "text/plain": [
       "  zip_code  distance          city state   zcta  median age\n",
       "0    44286    19.907     Richfield    OH  44286        47.4\n",
       "1    44233    18.982      Hinckley    OH  44233        45.3\n",
       "2    44141    15.561   Brecksville    OH  44141        47.3\n",
       "3    44136    15.988  Strongsville    OH  44136        43.5\n",
       "4    44087    18.933     Twinsburg    OH  44087        40.8"
      ]
     },
     "execution_count": 47,
     "metadata": {},
     "output_type": "execute_result"
    }
   ],
   "source": [
    "cle_final = pd.merge(cle_merge, age_df, on=\"zcta\")\n",
    "cle_final.head()"
   ]
  },
  {
   "cell_type": "code",
   "execution_count": 48,
   "metadata": {},
   "outputs": [
    {
     "data": {
      "text/plain": [
       "<matplotlib.collections.PathCollection at 0x2264462c588>"
      ]
     },
     "execution_count": 48,
     "metadata": {},
     "output_type": "execute_result"
    },
    {
     "data": {
      "image/png": "[encoded data removed]",
      "text/plain": [
       "<matplotlib.figure.Figure at 0x2264478af60>"
      ]
     },
     "metadata": {},
     "output_type": "display_data"
    }
   ],
   "source": [
    "plt.scatter(cle_final['distance'],cle_final['median age'])"
   ]
  },
  {
   "cell_type": "code",
   "execution_count": 49,
   "metadata": {},
   "outputs": [],
   "source": [
    "df_1 = cle_final\n",
    "df_1 = df_1.drop(47)"
   ]
  },
  {
   "cell_type": "code",
   "execution_count": 50,
   "metadata": {},
   "outputs": [
    {
     "name": "stdout",
     "output_type": "stream",
     "text": [
      "model coefficient: 0\n",
      "model intercept: 30\n",
      "R_squared is: 0.4476462490698395\n"
     ]
    }
   ],
   "source": [
    "from sklearn.linear_model import LinearRegression\n",
    "from sklearn.preprocessing import PolynomialFeatures\n",
    "from sklearn.pipeline import make_pipeline\n",
    "from sklearn.model_selection import train_test_split\n",
    "from sklearn.metrics import r2_score\n",
    "\n",
    "X_train, X_test, y_train, y_test = train_test_split(df_1['distance'],df_1['median age'],test_size= 0.2, random_state = 1)\n",
    "\n",
    "# Model to fit a linear line\n",
    "model = LinearRegression()\n",
    "# #  from sklearn.linear_model import Ridge\n",
    "# model = make_pipeline(GaussianFeatures(30), Ridge(alpha=0.1))\n",
    "# basis_plot(model, title='Ridge Regression')\n",
    "\n",
    "model.fit((X_train[:, np.newaxis]),y_train)\n",
    "xfit = np.linspace(0, 25,20 )\n",
    "yfit = model.predict(xfit[:, np.newaxis])\n",
    "print(f'model coefficient: {int(model.coef_)}')\n",
    "print(f'model intercept: {int(model.intercept_)}')\n",
    "y_predict = model.predict(X_test[:, np.newaxis])\n",
    "print (f'R_squared is: {r2_score(y_test,y_predict)}')"
   ]
  },
  {
   "cell_type": "code",
   "execution_count": 51,
   "metadata": {},
   "outputs": [
    {
     "data": {
      "image/png": "[encoded data removed]",
      "text/plain": [
       "<matplotlib.figure.Figure at 0x22644629128>"
      ]
     },
     "metadata": {},
     "output_type": "display_data"
    }
   ],
   "source": [
    "plt.scatter(X_train,y_train)\n",
    "plt.plot(xfit, yfit);"
   ]
  },
  {
   "cell_type": "code",
   "execution_count": 52,
   "metadata": {},
   "outputs": [
    {
     "name": "stdout",
     "output_type": "stream",
     "text": [
      "[ 0.          2.58606493 -0.07963834]\n",
      "24.53487140183112\n",
      "R_squared is: 0.5731181653756456\n"
     ]
    }
   ],
   "source": [
    "model_2 = make_pipeline(PolynomialFeatures(2),LinearRegression())\n",
    "model_2.fit((X_train[:, np.newaxis]),y_train)\n",
    "xfit = np.linspace(0, 20,10 )\n",
    "yfit = model_2.predict(xfit[:, np.newaxis])\n",
    "print(model_2.steps[1][1].coef_)\n",
    "print(model_2.steps[1][1].intercept_)\n",
    "# print(f'model coefficient: {int(model_2.coef_)}')\n",
    "# print(f'model intercept: {int(model_2.intercept_)}')\n",
    "y_predict = model_2.predict(X_test[:, np.newaxis])\n",
    "print (f'R_squared is: {r2_score(y_test,y_predict)}')"
   ]
  },
  {
   "cell_type": "code",
   "execution_count": 62,
   "metadata": {},
   "outputs": [
    {
     "data": {
      "text/plain": [
       "<matplotlib.figure.Figure at 0x226446b3080>"
      ]
     },
     "execution_count": 62,
     "metadata": {},
     "output_type": "execute_result"
    },
    {
     "data": {
      "image/png": "[encoded data removed]",
      "text/plain": [
       "<matplotlib.figure.Figure at 0x226407af438>"
      ]
     },
     "metadata": {},
     "output_type": "display_data"
    },
    {
     "data": {
      "text/plain": [
       "<matplotlib.figure.Figure at 0x226446b3080>"
      ]
     },
     "metadata": {},
     "output_type": "display_data"
    }
   ],
   "source": [
    "plt.scatter(X_train,y_train,edgecolors='b')\n",
    "plt.plot(xfit, yfit);\n",
    "plt.grid()\n",
    "plt.figure(figsize=(200,111))"
   ]
  },
  {
   "cell_type": "code",
   "execution_count": 16,
   "metadata": {},
   "outputs": [
    {
     "name": "stderr",
     "output_type": "stream",
     "text": [
      "C:\\Users\\holozadah\\Anaconda3\\lib\\site-packages\\statsmodels\\compat\\pandas.py:56: FutureWarning: The pandas.core.datetools module is deprecated and will be removed in a future version. Please use the pandas.tseries module instead.\n",
      "  from pandas.core import datetools\n"
     ]
    },
    {
     "name": "stdout",
     "output_type": "stream",
     "text": [
      "                            OLS Regression Results                            \n",
      "==============================================================================\n",
      "Dep. Variable:             median age   R-squared:                       0.561\n",
      "Model:                            OLS   Adj. R-squared:                  0.549\n",
      "Method:                 Least Squares   F-statistic:                     47.85\n",
      "Date:                Fri, 14 Sep 2018   Prob (F-statistic):           4.03e-14\n",
      "Time:                        20:26:44   Log-Likelihood:                -230.23\n",
      "No. Observations:                  78   AIC:                             466.5\n",
      "Df Residuals:                      75   BIC:                             473.5\n",
      "Df Model:                           2                                         \n",
      "Covariance Type:            nonrobust                                         \n",
      "==============================================================================\n",
      "                 coef    std err          t      P>|t|      [0.025      0.975]\n",
      "------------------------------------------------------------------------------\n",
      "const         25.7891      1.930     13.366      0.000      21.945      29.633\n",
      "distance       2.2155      0.444      4.990      0.000       1.331       3.100\n",
      "distance_2    -0.0637      0.021     -3.004      0.004      -0.106      -0.021\n",
      "==============================================================================\n",
      "Omnibus:                        2.362   Durbin-Watson:                   1.034\n",
      "Prob(Omnibus):                  0.307   Jarque-Bera (JB):                1.646\n",
      "Skew:                           0.280   Prob(JB):                        0.439\n",
      "Kurtosis:                       3.438   Cond. No.                         632.\n",
      "==============================================================================\n",
      "\n",
      "Warnings:\n",
      "[1] Standard Errors assume that the covariance matrix of the errors is correctly specified.\n"
     ]
    }
   ],
   "source": [
    "import pandas as pd\n",
    "import numpy as np\n",
    "from sklearn import datasets, linear_model\n",
    "from sklearn.linear_model import LinearRegression\n",
    "import statsmodels.api as sm\n",
    "from scipy import stats\n",
    "\n",
    "# diabetes = datasets.load_diabetes()\n",
    "X = cle_final['distance']\n",
    "X_2 = X**2\n",
    "X_1=pd.DataFrame([X]).T\n",
    "X_1 ['distance_2'] = X_1['distance']**2\n",
    "# X_1 ['distance_3'] = X_1['distance']**3\n",
    "y = pd.DataFrame(cle_final['median age'])\n",
    "X2 = sm.add_constant(X_1)\n",
    "est = sm.OLS(y, X2)\n",
    "est2 = est.fit()\n",
    "print(est2.summary())\n"
   ]
  },
  {
   "cell_type": "code",
   "execution_count": 17,
   "metadata": {},
   "outputs": [],
   "source": [
    "from sklearn.preprocessing import StandardScaler\n",
    "std = StandardScaler()\n",
    "cle_1 = std.fit_transform(cle_final[['distance','median age']])"
   ]
  },
  {
   "cell_type": "code",
   "execution_count": 19,
   "metadata": {},
   "outputs": [
    {
     "name": "stdout",
     "output_type": "stream",
     "text": [
      "                            OLS Regression Results                            \n",
      "==============================================================================\n",
      "Dep. Variable:                      0   R-squared:                       1.000\n",
      "Model:                            OLS   Adj. R-squared:                    nan\n",
      "Method:                 Least Squares   F-statistic:                     0.000\n",
      "Date:                Fri, 14 Sep 2018   Prob (F-statistic):                nan\n",
      "Time:                        20:27:24   Log-Likelihood:                 65.972\n",
      "No. Observations:                   2   AIC:                            -127.9\n",
      "Df Residuals:                       0   BIC:                            -130.6\n",
      "Df Model:                           1                                         \n",
      "Covariance Type:            nonrobust                                         \n",
      "==============================================================================\n",
      "                 coef    std err          t      P>|t|      [0.025      0.975]\n",
      "------------------------------------------------------------------------------\n",
      "const          0.1634        inf          0        nan         nan         nan\n",
      "0              0.2231        inf          0        nan         nan         nan\n",
      "distance_2     0.3237        inf          0        nan         nan         nan\n",
      "==============================================================================\n",
      "Omnibus:                          nan   Durbin-Watson:                   0.472\n",
      "Prob(Omnibus):                    nan   Jarque-Bera (JB):                0.333\n",
      "Skew:                           0.000   Prob(JB):                        0.846\n",
      "Kurtosis:                       1.000   Cond. No.                         7.15\n",
      "==============================================================================\n",
      "\n",
      "Warnings:\n",
      "[1] Standard Errors assume that the covariance matrix of the errors is correctly specified.\n",
      "[2] The input rank is higher than the number of observations.\n"
     ]
    },
    {
     "name": "stderr",
     "output_type": "stream",
     "text": [
      "C:\\Users\\holozadah\\Anaconda3\\lib\\site-packages\\statsmodels\\stats\\stattools.py:72: ValueWarning: omni_normtest is not valid with less than 8 observations; 2 samples were given.\n",
      "  \"samples were given.\" % int(n), ValueWarning)\n",
      "C:\\Users\\holozadah\\Anaconda3\\lib\\site-packages\\statsmodels\\regression\\linear_model.py:1392: RuntimeWarning: divide by zero encountered in true_divide\n",
      "  return 1 - np.divide(self.nobs - self.k_constant, self.df_resid) * (1 - self.rsquared)\n",
      "C:\\Users\\holozadah\\Anaconda3\\lib\\site-packages\\statsmodels\\regression\\linear_model.py:1392: RuntimeWarning: invalid value encountered in double_scalars\n",
      "  return 1 - np.divide(self.nobs - self.k_constant, self.df_resid) * (1 - self.rsquared)\n",
      "C:\\Users\\holozadah\\Anaconda3\\lib\\site-packages\\statsmodels\\regression\\linear_model.py:1400: RuntimeWarning: divide by zero encountered in double_scalars\n",
      "  return self.ssr/self.df_resid\n",
      "C:\\Users\\holozadah\\Anaconda3\\lib\\site-packages\\statsmodels\\regression\\linear_model.py:1353: RuntimeWarning: divide by zero encountered in double_scalars\n",
      "  return np.dot(wresid, wresid) / self.df_resid\n"
     ]
    }
   ],
   "source": [
    "X = cle_1[0]\n",
    "X_2 = X**2\n",
    "X_1=pd.DataFrame([X]).T\n",
    "X_1 ['distance_2'] = X_1[0]**2\n",
    "# X_1 ['distance_3'] = X_1['distance']**3\n",
    "y = pd.DataFrame(cle_1[1])\n",
    "X2 = sm.add_constant(X_1)\n",
    "est = sm.OLS(y, X2)\n",
    "est2 = est.fit()\n",
    "print(est2.summary())"
   ]
  },
  {
   "cell_type": "code",
   "execution_count": 20,
   "metadata": {},
   "outputs": [
    {
     "name": "stdout",
     "output_type": "stream",
     "text": [
      "                            OLS Regression Results                            \n",
      "==============================================================================\n",
      "Dep. Variable:                      1   R-squared:                       0.561\n",
      "Model:                            OLS   Adj. R-squared:                  0.549\n",
      "Method:                 Least Squares   F-statistic:                     47.85\n",
      "Date:                Fri, 14 Sep 2018   Prob (F-statistic):           4.03e-14\n",
      "Time:                        20:28:14   Log-Likelihood:                -78.602\n",
      "No. Observations:                  78   AIC:                             163.2\n",
      "Df Residuals:                      75   BIC:                             170.3\n",
      "Df Model:                           2                                         \n",
      "Covariance Type:            nonrobust                                         \n",
      "==============================================================================\n",
      "                 coef    std err          t      P>|t|      [0.025      0.975]\n",
      "------------------------------------------------------------------------------\n",
      "const          0.2702      0.118      2.288      0.025       0.035       0.505\n",
      "0              0.7435      0.077      9.628      0.000       0.590       0.897\n",
      "distance_2    -0.2702      0.090     -3.004      0.004      -0.449      -0.091\n",
      "==============================================================================\n",
      "Omnibus:                        2.362   Durbin-Watson:                   1.034\n",
      "Prob(Omnibus):                  0.307   Jarque-Bera (JB):                1.646\n",
      "Skew:                           0.280   Prob(JB):                        0.439\n",
      "Kurtosis:                       3.438   Cond. No.                         2.87\n",
      "==============================================================================\n",
      "\n",
      "Warnings:\n",
      "[1] Standard Errors assume that the covariance matrix of the errors is correctly specified.\n"
     ]
    }
   ],
   "source": [
    "cle_1 = pd.DataFrame(cle_1)\n",
    "X = cle_1[0]\n",
    "X_2 = X**2\n",
    "X_1=pd.DataFrame([X]).T\n",
    "X_1 ['distance_2'] = X_1[0]**2\n",
    "# X_1 ['distance_3'] = X_1['distance']**3\n",
    "y = pd.DataFrame(cle_1[1])\n",
    "X2 = sm.add_constant(X_1)\n",
    "est = sm.OLS(y, X2)\n",
    "est2 = est.fit()\n",
    "print(est2.summary())"
   ]
  },
  {
   "cell_type": "markdown",
   "metadata": {},
   "source": [
    "#  Improving the accuracy by Normalizing the data"
   ]
  },
  {
   "cell_type": "code",
   "execution_count": 21,
   "metadata": {},
   "outputs": [
    {
     "name": "stdout",
     "output_type": "stream",
     "text": [
      "[ 0.          0.72513238 -0.23636949]\n",
      "0.28520813973867365\n",
      "R_squared is: 0.4778619927183636\n"
     ]
    }
   ],
   "source": [
    "X_train, X_test, y_train, y_test = train_test_split(cle_1[0],cle_1[1],test_size= 0.2, random_state = 1)\n",
    "model_2 = make_pipeline(PolynomialFeatures(2),LinearRegression())\n",
    "model_2.fit((X_train[:, np.newaxis]),y_train)\n",
    "xfit = np.linspace(-2,2,10 )\n",
    "yfit = model_2.predict(xfit[:, np.newaxis])\n",
    "print(model_2.steps[1][1].coef_)\n",
    "print(model_2.steps[1][1].intercept_)\n",
    "# print(f'model coefficient: {int(model_2.coef_)}')\n",
    "# print(f'model intercept: {int(model_2.intercept_)}')\n",
    "y_predict = model_2.predict(X_test[:, np.newaxis])\n",
    "print (f'R_squared is: {r2_score(y_test,y_predict)}')"
   ]
  },
  {
   "cell_type": "code",
   "execution_count": 22,
   "metadata": {},
   "outputs": [
    {
     "data": {
      "image/png": "[encoded data removed]",
      "text/plain": [
       "<matplotlib.figure.Figure at 0x226406cd390>"
      ]
     },
     "metadata": {},
     "output_type": "display_data"
    }
   ],
   "source": [
    "plt.scatter(X_train,y_train)\n",
    "plt.plot(xfit, yfit);"
   ]
  },
  {
   "cell_type": "code",
   "execution_count": null,
   "metadata": {},
   "outputs": [],
   "source": []
  }
 ],
 "metadata": {
  "kernelspec": {
   "display_name": "Python 3",
   "language": "python",
   "name": "python3"
  },
  "language_info": {
   "codemirror_mode": {
    "name": "ipython",
    "version": 3
   },
   "file_extension": ".py",
   "mimetype": "text/x-python",
   "name": "python",
   "nbconvert_exporter": "python",
   "pygments_lexer": "ipython3",
   "version": "3.6.4"
  }
 },
 "nbformat": 4,
 "nbformat_minor": 2
}
