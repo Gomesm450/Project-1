{
 "cells": [
  {
   "cell_type": "code",
   "execution_count": 1,
   "metadata": {},
   "outputs": [],
   "source": [
    "#import libraries and api keys\n",
    "import pandas as pd\n",
    "import numpy as np\n",
    "import matplotlib.pyplot as plt\n",
    "import csv\n",
    "import os\n",
    "import requests\n",
    "import json"
   ]
  },
  {
   "cell_type": "code",
   "execution_count": 2,
   "metadata": {},
   "outputs": [],
   "source": [
    "# Create a dictionary of the cities' names and their zipcodes\n",
    "cities = {'Cleveland':44114,\n",
    "          'LA': 90071,\n",
    "          'Austin': 78705,\n",
    "          'NYC': 10019,\n",
    "          'Denver': 80202\n",
    "         }\n",
    "# APi key for https://www.zipcodeapi.com/API\n",
    "api = \"F1Q5equ8jewDKQnEnJ5o2SYzmUj0WJr7wjbvYlHLG1xlGqrc5XNzVYYRC4RB3cT1\"\n",
    "\n",
    "# Loop through the cities to get the required zip_code\n",
    "for city in cities:\n",
    "    # Create an api request from the website \n",
    "    data_1 = requests.get(f\"https://www.zipcodeapi.com/rest/F1Q5equ8jewDKQnEnJ5o2SYzmUj0WJr7wjbvYlHLG1xlGqrc5XNzVYYRC4RB3cT1/radius.csv/{cities[city]}/20/mile\")\n",
    "    \n",
    "    # Create an empty list to save the results later\n",
    "    zipcode_data = []\n",
    "    # Get the text as str for further processing and slpit them\n",
    "    text = data_1.text\n",
    "    for row in text.split('\\n'):\n",
    "        zipcode_data.append(row.split(','))\n",
    "    \n",
    "    # Create a data Frame for the results collected from preivous step\n",
    "    df = pd.DataFrame(zipcode_data)\n",
    "    #Set the columns index \n",
    "    df = df.set_axis(['zip_code','distance','city','state'], axis='columns', inplace=False)\n",
    "    # Drop the first row which contains unnecessarily string data\n",
    "    df = df.drop(0)\n",
    "    # Convert to a numeric data from distance\n",
    "    df['distance'] = pd.to_numeric(df['distance'])\n",
    "    # Sort the values by ascending order\n",
    "    df = df.sort_values(by='distance', ascending=True)\n",
    "    # Save it to a csv file by the city name\n",
    "    df.to_csv(f'Zipcodes/{city}.csv')"
   ]
  },
  {
   "cell_type": "code",
   "execution_count": 28,
   "metadata": {},
   "outputs": [],
   "source": [
    "#define city function\n",
    "def city_age(city_name):\n",
    "\n",
    "    #load in csv files for each city\n",
    "    city_file = \"Zipcodes/\" + city_name + \".csv\"\n",
    "    city_df = pd.read_csv(city_file)\n",
    "    city_df = city_df.drop(city_df.columns[0], axis=1)\n",
    "    city_df['zip_code'] = city_df['zip_code'].astype(str).str[:-2]\n",
    "\n",
    "    #https://www.udsmapper.org/zcta-crosswalk.cfm\n",
    "    #load in csv for ZTAC info\n",
    "    zip_file = \"Zipcodes/zip_to_zcta_2018.csv\"\n",
    "    zip_df = pd.read_csv(zip_file)\n",
    "\n",
    "    #convert zip code to string to add back zeroes\n",
    "    zip_df[\"zip_code\"] = zip_df[\"zip_code\"].astype(str)\n",
    "\n",
    "    for index, row in zip_df.iterrows():\n",
    "    \n",
    "        length = len(zip_df.at[index, \"zip_code\"])\n",
    "        ZIP = zip_df.at[index, \"zip_code\"]\n",
    "    \n",
    "        if (5 - length) == 2:\n",
    "            new_zip = \"00\" + ZIP\n",
    "            zip_df.at[index, \"zip_code\"] = new_zip\n",
    "        else:\n",
    "            if (5 - length) == 1:\n",
    "                new_zip = \"0\" + ZIP\n",
    "                zip_df.at[index, \"zip_code\"] = new_zip\n",
    "\n",
    "    #convert zcta to string to add back zeroes\n",
    "    zip_df[\"zcta\"] = zip_df[\"zcta\"].astype(str)\n",
    "\n",
    "    for index, row in zip_df.iterrows():\n",
    "    \n",
    "        length = len(zip_df.at[index, \"zcta\"])\n",
    "        ZCTA = zip_df.at[index, \"zcta\"]\n",
    "    \n",
    "        if (5 - length) == 2:\n",
    "            new_zcta = \"00\" + ZCTA\n",
    "            zip_df.at[index, \"zcta\"] = new_zcta\n",
    "        else:\n",
    "            if (5 - length) == 1:\n",
    "                new_zcta = \"0\" + ZCTA\n",
    "                zip_df.at[index, \"zcta\"] = new_zcta\n",
    "            \n",
    "    #join ZCTA data to city df\n",
    "    df_merge = pd.merge(city_df, zip_df, on=\"zip_code\")\n",
    "\n",
    "    #create data frame for zip to zcta mapping\n",
    "    age_file = \"Zipcodes/DEC_10_SF1_QTP1_with_ann.csv\"\n",
    "    age_df = pd.read_csv(age_file)\n",
    "\n",
    "    #convert zcta to string to add back zeroes\n",
    "    age_df[\"zcta\"] = age_df[\"zcta\"].astype(str)\n",
    "\n",
    "    for index, row in age_df.iterrows():\n",
    "    \n",
    "        length = len(age_df.at[index, \"zcta\"])\n",
    "        ZCTA2 = age_df.at[index, \"zcta\"]\n",
    "    \n",
    "        if (5 - length) == 2:\n",
    "            new_zcta2 = \"00\" + ZCTA2\n",
    "            age_df.at[index, \"zcta\"] = new_zcta2\n",
    "        else:\n",
    "            if (5 - length) == 1:\n",
    "                new_zcta2 = \"0\" + ZCTA2\n",
    "                age_df.at[index, \"zcta\"] = new_zcta2\n",
    "\n",
    "    df_final= pd.merge(df_merge, age_df, on=\"zcta\")\n",
    "    clean_df = df_final[df_final[\"median age\"] != 0]\n",
    "    clean_df.reset_index(inplace=True, drop=True)\n",
    "    return clean_df"
   ]
  },
  {
   "cell_type": "code",
   "execution_count": 29,
   "metadata": {},
   "outputs": [],
   "source": [
    "aus_df = city_age(\"Austin\")\n",
    "cle_df = city_age(\"Cleveland\")\n",
    "den_df = city_age(\"Denver\")\n",
    "nyc_df = city_age(\"NYC\")\n",
    "la_df = city_age(\"LA\")"
   ]
  },
  {
   "cell_type": "code",
   "execution_count": 30,
   "metadata": {
    "scrolled": true
   },
   "outputs": [
    {
     "data": {
      "text/html": [
       "<div>\n",
       "<style scoped>\n",
       "    .dataframe tbody tr th:only-of-type {\n",
       "        vertical-align: middle;\n",
       "    }\n",
       "\n",
       "    .dataframe tbody tr th {\n",
       "        vertical-align: top;\n",
       "    }\n",
       "\n",
       "    .dataframe thead th {\n",
       "        text-align: right;\n",
       "    }\n",
       "</style>\n",
       "<table border=\"1\" class=\"dataframe\">\n",
       "  <thead>\n",
       "    <tr style=\"text-align: right;\">\n",
       "      <th></th>\n",
       "      <th>zip_code</th>\n",
       "      <th>distance</th>\n",
       "      <th>city</th>\n",
       "      <th>state</th>\n",
       "      <th>zcta</th>\n",
       "      <th>median age</th>\n",
       "    </tr>\n",
       "  </thead>\n",
       "  <tbody>\n",
       "    <tr>\n",
       "      <th>0</th>\n",
       "      <td>44114</td>\n",
       "      <td>0.000</td>\n",
       "      <td>\"Cleveland\"</td>\n",
       "      <td>\"OH\"</td>\n",
       "      <td>44114</td>\n",
       "      <td>40.1</td>\n",
       "    </tr>\n",
       "    <tr>\n",
       "      <th>1</th>\n",
       "      <td>44194</td>\n",
       "      <td>3.489</td>\n",
       "      <td>\"Cleveland\"</td>\n",
       "      <td>\"OH\"</td>\n",
       "      <td>44114</td>\n",
       "      <td>40.1</td>\n",
       "    </tr>\n",
       "    <tr>\n",
       "      <th>2</th>\n",
       "      <td>44199</td>\n",
       "      <td>3.489</td>\n",
       "      <td>\"Cleveland\"</td>\n",
       "      <td>\"OH\"</td>\n",
       "      <td>44114</td>\n",
       "      <td>40.1</td>\n",
       "    </tr>\n",
       "    <tr>\n",
       "      <th>3</th>\n",
       "      <td>44103</td>\n",
       "      <td>1.868</td>\n",
       "      <td>\"Cleveland\"</td>\n",
       "      <td>\"OH\"</td>\n",
       "      <td>44103</td>\n",
       "      <td>39.9</td>\n",
       "    </tr>\n",
       "    <tr>\n",
       "      <th>4</th>\n",
       "      <td>44115</td>\n",
       "      <td>1.871</td>\n",
       "      <td>\"Cleveland\"</td>\n",
       "      <td>\"OH\"</td>\n",
       "      <td>44115</td>\n",
       "      <td>23.1</td>\n",
       "    </tr>\n",
       "  </tbody>\n",
       "</table>\n",
       "</div>"
      ],
      "text/plain": [
       "  zip_code  distance         city state   zcta  median age\n",
       "0    44114     0.000  \"Cleveland\"  \"OH\"  44114        40.1\n",
       "1    44194     3.489  \"Cleveland\"  \"OH\"  44114        40.1\n",
       "2    44199     3.489  \"Cleveland\"  \"OH\"  44114        40.1\n",
       "3    44103     1.868  \"Cleveland\"  \"OH\"  44103        39.9\n",
       "4    44115     1.871  \"Cleveland\"  \"OH\"  44115        23.1"
      ]
     },
     "execution_count": 30,
     "metadata": {},
     "output_type": "execute_result"
    }
   ],
   "source": [
    "cle_df.head()"
   ]
  },
  {
   "cell_type": "markdown",
   "metadata": {},
   "source": [
    "# Create Function for plot, Analysis, and ANOVA"
   ]
  },
  {
   "cell_type": "code",
   "execution_count": 56,
   "metadata": {},
   "outputs": [],
   "source": [
    "from sklearn.linear_model import LinearRegression\n",
    "from sklearn.preprocessing import PolynomialFeatures\n",
    "from sklearn.pipeline import make_pipeline\n",
    "from sklearn.model_selection import train_test_split\n",
    "from sklearn.metrics import r2_score\n",
    "import pandas as pd\n",
    "import numpy as np\n",
    "from sklearn import datasets, linear_model\n",
    "from sklearn.linear_model import LinearRegression\n",
    "import statsmodels.api as sm\n",
    "from scipy import stats\n"
   ]
  },
  {
   "cell_type": "code",
   "execution_count": 174,
   "metadata": {},
   "outputs": [],
   "source": [
    "# Create function that do scatter plot for the city distance and median age\n",
    "def plot_city(city):\n",
    "    plt.scatter(city['distance'],city['median age'])\n",
    "    plt.xlabel('Distance (mile)')\n",
    "    plt.ylabel('Median Age')\n",
    "    city_row = city[city['distance'] == 0]\n",
    "    city_name = city['city'].reset_index(level=0)\n",
    "    city_name = city_name.values[0,1]\n",
    "    plt.title(f'City: {city_name} Median Age vs Distance')\n",
    "    plt.grid()\n",
    "\n",
    "def Regression(city):\n",
    "    \n",
    "    X_train, X_test, y_train, y_test = train_test_split(city['distance'],city['median age'],test_size= 0.2, random_state = 1)\n",
    "\n",
    "    # Model to fit a linear line\n",
    "    model = LinearRegression()\n",
    "\n",
    "    model.fit((X_train[:, np.newaxis]),y_train)\n",
    "    xfit = np.linspace(0, 20,20 )\n",
    "    yfit = model.predict(xfit[:, np.newaxis])\n",
    "    print(f'model coefficient: {int(model.coef_)}')\n",
    "    print(f'model intercept: {int(model.intercept_)}')\n",
    "    y_predict = model.predict(X_test[:, np.newaxis])\n",
    "    print (f'R_squared is: {r2_score(y_test,y_predict)}')\n",
    "    \n",
    "    plt.scatter(X_train,y_train)\n",
    "    plt.plot(xfit, yfit)\n",
    "    plt.xlabel('Distance (mile)')\n",
    "    plt.ylabel('Median Age')\n",
    "    city_row = city[city['distance'] == 0]\n",
    "    city_name = city['city'].reset_index(level=0)\n",
    "    city_name = city_name.values[0,1]\n",
    "    plt.title(f'City: {city_name} Median Age vs Distance')\n",
    "    plt.grid()\n",
    "\n",
    "def Poly_regress (city):\n",
    "    X_train, X_test, y_train, y_test = train_test_split(city['distance'],city['median age'],test_size= 0.2, random_state = 1)\n",
    "    model_2 = make_pipeline(PolynomialFeatures(2),LinearRegression())\n",
    "    model_2.fit((X_train[:, np.newaxis]),y_train)\n",
    "    xfit = np.linspace(0, 20,20 )\n",
    "    yfit = model_2.predict(xfit[:, np.newaxis])\n",
    "    print(model_2.steps[1][1].coef_)\n",
    "    print(model_2.steps[1][1].intercept_)\n",
    "    # print(f'model coefficient: {int(model_2.coef_)}')\n",
    "    # print(f'model intercept: {int(model_2.intercept_)}')\n",
    "    y_predict = model_2.predict(X_test[:, np.newaxis])\n",
    "    print (f'R_squared is: {r2_score(y_test,y_predict)}')\n",
    "    plt.scatter(X_train,y_train)\n",
    "    plt.plot(xfit, yfit)\n",
    "\n",
    "def ANOVA(city, degree=1):\n",
    " \n",
    "    # diabetes = datasets.load_diabetes()\n",
    "    X = city['distance']\n",
    "    X_2 = X**2\n",
    "    X_1=pd.DataFrame([X]).T\n",
    "    if degree > 1 :\n",
    "        for degrees in range(1,degree):\n",
    "            X_1 [f'distance_{degrees}'] = X_1['distance']**degrees\n",
    "        \n",
    "    # X_1 ['distance_3'] = X_1['distance']**3\n",
    "    y = pd.DataFrame(city['median age'])\n",
    "    X2 = sm.add_constant(X_1)\n",
    "    est = sm.OLS(y, X2)\n",
    "    est2 = est.fit()\n",
    "    print(est2.summary())\n"
   ]
  },
  {
   "cell_type": "markdown",
   "metadata": {},
   "source": [
    "### Cleveland Analysis"
   ]
  },
  {
   "cell_type": "code",
   "execution_count": 175,
   "metadata": {},
   "outputs": [
    {
     "name": "stdout",
     "output_type": "stream",
     "text": [
      "                            OLS Regression Results                            \n",
      "==============================================================================\n",
      "Dep. Variable:             median age   R-squared:                       0.508\n",
      "Model:                            OLS   Adj. R-squared:                  0.501\n",
      "Method:                 Least Squares   F-statistic:                     78.40\n",
      "Date:                Sat, 15 Sep 2018   Prob (F-statistic):           2.53e-13\n",
      "Time:                        09:07:06   Log-Likelihood:                -234.66\n",
      "No. Observations:                  78   AIC:                             473.3\n",
      "Df Residuals:                      76   BIC:                             478.0\n",
      "Df Model:                           1                                         \n",
      "Covariance Type:            nonrobust                                         \n",
      "==============================================================================\n",
      "                 coef    std err          t      P>|t|      [0.025      0.975]\n",
      "------------------------------------------------------------------------------\n",
      "const         30.5316      1.166     26.176      0.000      28.209      32.855\n",
      "distance       0.9148      0.103      8.855      0.000       0.709       1.121\n",
      "==============================================================================\n",
      "Omnibus:                        0.458   Durbin-Watson:                   0.993\n",
      "Prob(Omnibus):                  0.795   Jarque-Bera (JB):                0.494\n",
      "Skew:                          -0.175   Prob(JB):                        0.781\n",
      "Kurtosis:                       2.827   Cond. No.                         23.6\n",
      "==============================================================================\n",
      "\n",
      "Warnings:\n",
      "[1] Standard Errors assume that the covariance matrix of the errors is correctly specified.\n",
      "model coefficient: 0\n",
      "model intercept: 29\n",
      "R_squared is: -0.39189833337509317\n"
     ]
    },
    {
     "data": {
      "image/png": "[encoded data removed]",
      "text/plain": [
       "<matplotlib.figure.Figure at 0x1919d8c6978>"
      ]
     },
     "metadata": {},
     "output_type": "display_data"
    }
   ],
   "source": [
    "ANOVA(cle_df,degree=1)\n",
    "Regression(cle_df)\n"
   ]
  },
  {
   "cell_type": "markdown",
   "metadata": {},
   "source": [
    "### Denver Analysis"
   ]
  },
  {
   "cell_type": "code",
   "execution_count": 176,
   "metadata": {},
   "outputs": [
    {
     "name": "stdout",
     "output_type": "stream",
     "text": [
      "                            OLS Regression Results                            \n",
      "==============================================================================\n",
      "Dep. Variable:             median age   R-squared:                       0.084\n",
      "Model:                            OLS   Adj. R-squared:                  0.077\n",
      "Method:                 Least Squares   F-statistic:                     12.54\n",
      "Date:                Sat, 15 Sep 2018   Prob (F-statistic):           0.000544\n",
      "Time:                        09:07:12   Log-Likelihood:                -410.29\n",
      "No. Observations:                 139   AIC:                             824.6\n",
      "Df Residuals:                     137   BIC:                             830.4\n",
      "Df Model:                           1                                         \n",
      "Covariance Type:            nonrobust                                         \n",
      "==============================================================================\n",
      "                 coef    std err          t      P>|t|      [0.025      0.975]\n",
      "------------------------------------------------------------------------------\n",
      "const         32.9015      0.946     34.768      0.000      31.030      34.773\n",
      "distance       0.3206      0.091      3.542      0.001       0.142       0.500\n",
      "==============================================================================\n",
      "Omnibus:                        4.952   Durbin-Watson:                   1.314\n",
      "Prob(Omnibus):                  0.084   Jarque-Bera (JB):                4.669\n",
      "Skew:                           0.389   Prob(JB):                       0.0968\n",
      "Kurtosis:                       2.552   Cond. No.                         25.2\n",
      "==============================================================================\n",
      "\n",
      "Warnings:\n",
      "[1] Standard Errors assume that the covariance matrix of the errors is correctly specified.\n",
      "model coefficient: 0\n",
      "model intercept: 31\n",
      "R_squared is: -0.24125308720444183\n"
     ]
    },
    {
     "data": {
      "image/png": "[encoded data removed]",
      "text/plain": [
       "<matplotlib.figure.Figure at 0x1919db08cf8>"
      ]
     },
     "metadata": {},
     "output_type": "display_data"
    }
   ],
   "source": [
    "ANOVA(den_df,degree=1)\n",
    "Regression(den_df)\n"
   ]
  },
  {
   "cell_type": "markdown",
   "metadata": {},
   "source": [
    "### NYC Analysis"
   ]
  },
  {
   "cell_type": "code",
   "execution_count": 177,
   "metadata": {},
   "outputs": [
    {
     "name": "stdout",
     "output_type": "stream",
     "text": [
      "                            OLS Regression Results                            \n",
      "==============================================================================\n",
      "Dep. Variable:             median age   R-squared:                       0.057\n",
      "Model:                            OLS   Adj. R-squared:                  0.054\n",
      "Method:                 Least Squares   F-statistic:                     21.52\n",
      "Date:                Sat, 15 Sep 2018   Prob (F-statistic):           4.94e-06\n",
      "Time:                        09:07:41   Log-Likelihood:                -1216.5\n",
      "No. Observations:                 357   AIC:                             2437.\n",
      "Df Residuals:                     355   BIC:                             2445.\n",
      "Df Model:                           1                                         \n",
      "Covariance Type:            nonrobust                                         \n",
      "==============================================================================\n",
      "                 coef    std err          t      P>|t|      [0.025      0.975]\n",
      "------------------------------------------------------------------------------\n",
      "const         35.3593      0.744     47.552      0.000      33.897      36.822\n",
      "distance       0.3294      0.071      4.639      0.000       0.190       0.469\n",
      "==============================================================================\n",
      "Omnibus:                      211.543   Durbin-Watson:                   0.940\n",
      "Prob(Omnibus):                  0.000   Jarque-Bera (JB):             1798.492\n",
      "Skew:                           2.396   Prob(JB):                         0.00\n",
      "Kurtosis:                      12.897   Cond. No.                         20.2\n",
      "==============================================================================\n",
      "\n",
      "Warnings:\n",
      "[1] Standard Errors assume that the covariance matrix of the errors is correctly specified.\n",
      "model coefficient: 0\n",
      "model intercept: 35\n",
      "R_squared is: 0.0693896832961527\n"
     ]
    },
    {
     "data": {
      "image/png": "[encoded data removed]",
      "text/plain": [
       "<matplotlib.figure.Figure at 0x1919dcc9a90>"
      ]
     },
     "metadata": {},
     "output_type": "display_data"
    }
   ],
   "source": [
    "ANOVA(nyc_df,degree=1)\n",
    "Regression(nyc_df)\n"
   ]
  },
  {
   "cell_type": "markdown",
   "metadata": {},
   "source": [
    "### LA Analysis"
   ]
  },
  {
   "cell_type": "code",
   "execution_count": 178,
   "metadata": {},
   "outputs": [
    {
     "name": "stdout",
     "output_type": "stream",
     "text": [
      "                            OLS Regression Results                            \n",
      "==============================================================================\n",
      "Dep. Variable:             median age   R-squared:                       0.013\n",
      "Model:                            OLS   Adj. R-squared:                  0.010\n",
      "Method:                 Least Squares   F-statistic:                     5.111\n",
      "Date:                Sat, 15 Sep 2018   Prob (F-statistic):             0.0243\n",
      "Time:                        09:07:59   Log-Likelihood:                -1281.0\n",
      "No. Observations:                 400   AIC:                             2566.\n",
      "Df Residuals:                     398   BIC:                             2574.\n",
      "Df Model:                           1                                         \n",
      "Covariance Type:            nonrobust                                         \n",
      "==============================================================================\n",
      "                 coef    std err          t      P>|t|      [0.025      0.975]\n",
      "------------------------------------------------------------------------------\n",
      "const         35.0976      0.734     47.801      0.000      33.654      36.541\n",
      "distance       0.1376      0.061      2.261      0.024       0.018       0.257\n",
      "==============================================================================\n",
      "Omnibus:                      104.780   Durbin-Watson:                   1.370\n",
      "Prob(Omnibus):                  0.000   Jarque-Bera (JB):              432.905\n",
      "Skew:                           1.086   Prob(JB):                     9.91e-95\n",
      "Kurtosis:                       7.610   Cond. No.                         29.9\n",
      "==============================================================================\n",
      "\n",
      "Warnings:\n",
      "[1] Standard Errors assume that the covariance matrix of the errors is correctly specified.\n",
      "model coefficient: 0\n",
      "model intercept: 35\n",
      "R_squared is: 0.008820333657175494\n"
     ]
    },
    {
     "data": {
      "image/png": "[encoded data removed]",
      "text/plain": [
       "<matplotlib.figure.Figure at 0x1919dffaa90>"
      ]
     },
     "metadata": {},
     "output_type": "display_data"
    }
   ],
   "source": [
    "ANOVA(la_df,degree=1)\n",
    "Regression(la_df)\n"
   ]
  },
  {
   "cell_type": "markdown",
   "metadata": {},
   "source": [
    "### Austin Analysis"
   ]
  },
  {
   "cell_type": "code",
   "execution_count": 179,
   "metadata": {},
   "outputs": [
    {
     "name": "stdout",
     "output_type": "stream",
     "text": [
      "                            OLS Regression Results                            \n",
      "==============================================================================\n",
      "Dep. Variable:             median age   R-squared:                       0.080\n",
      "Model:                            OLS   Adj. R-squared:                  0.069\n",
      "Method:                 Least Squares   F-statistic:                     7.693\n",
      "Date:                Sat, 15 Sep 2018   Prob (F-statistic):            0.00675\n",
      "Time:                        09:08:20   Log-Likelihood:                -268.30\n",
      "No. Observations:                  91   AIC:                             540.6\n",
      "Df Residuals:                      89   BIC:                             545.6\n",
      "Df Model:                           1                                         \n",
      "Covariance Type:            nonrobust                                         \n",
      "==============================================================================\n",
      "                 coef    std err          t      P>|t|      [0.025      0.975]\n",
      "------------------------------------------------------------------------------\n",
      "const         31.4493      0.815     38.589      0.000      29.830      33.069\n",
      "distance       0.2552      0.092      2.774      0.007       0.072       0.438\n",
      "==============================================================================\n",
      "Omnibus:                        0.351   Durbin-Watson:                   1.151\n",
      "Prob(Omnibus):                  0.839   Jarque-Bera (JB):                0.065\n",
      "Skew:                          -0.019   Prob(JB):                        0.968\n",
      "Kurtosis:                       3.126   Cond. No.                         14.9\n",
      "==============================================================================\n",
      "\n",
      "Warnings:\n",
      "[1] Standard Errors assume that the covariance matrix of the errors is correctly specified.\n",
      "model coefficient: 0\n",
      "model intercept: 31\n",
      "R_squared is: 0.06900515064082546\n"
     ]
    },
    {
     "data": {
      "image/png": "[encoded data removed]",
      "text/plain": [
       "<matplotlib.figure.Figure at 0x1919dffa710>"
      ]
     },
     "metadata": {},
     "output_type": "display_data"
    }
   ],
   "source": [
    "ANOVA(aus_df,degree=1)\n",
    "Regression(aus_df)\n"
   ]
  },
  {
   "cell_type": "code",
   "execution_count": null,
   "metadata": {},
   "outputs": [],
   "source": []
  }
 ],
 "metadata": {
  "kernelspec": {
   "display_name": "Python 3",
   "language": "python",
   "name": "python3"
  },
  "language_info": {
   "codemirror_mode": {
    "name": "ipython",
    "version": 3
   },
   "file_extension": ".py",
   "mimetype": "text/x-python",
   "name": "python",
   "nbconvert_exporter": "python",
   "pygments_lexer": "ipython3",
   "version": "3.6.4"
  }
 },
 "nbformat": 4,
 "nbformat_minor": 2
}
