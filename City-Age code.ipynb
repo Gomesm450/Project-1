{
 "cells": [
  {
   "cell_type": "code",
   "execution_count": 1,
   "metadata": {},
   "outputs": [],
   "source": [
    "#import libraries and api keys\n",
    "\n",
    "# Google developer API key\n",
    "#from config import gkey"
   ]
  },
  {
   "attachments": {},
   "cell_type": "markdown",
   "metadata": {},
   "source": [
    "# Create URL for each city (Cleveland, LA, NYC, Austin, Denver)\n",
    "## Use google API for:\n",
    "### zip code\n",
    "### lat/long\n",
    "### city name\n",
    "\n",
    "### Resources\n",
    "#### https://catalog.data.gov/dataset/census-api-by-coordinates\n",
    "#### https://www.programmableweb.com/category/all/apis?keyword=zip%20code\n",
    "#### https://www.census.gov/geo/maps-data/data/geocoder.html\n",
    "#### https://www.census.gov/data/developers/data-sets/popest-popproj.html\n",
    "#### https://www.census.gov/content/dam/Census/data/developers/api-user-guide/api-guide.pdf\n",
    "\n",
    "### lat/ lng\n",
    "#### Cleveland: 41.4994927,-81.6940037\n",
    "#### LA: 34.040965,-118.2486802\n",
    "#### Austin: 30.2670738,-97.7450376\n",
    "#### NYC: 40.7398518,-73.9950493\n",
    "#### Denver: 39.7465105,-105.0012808"
   ]
  },
  {
   "cell_type": "code",
   "execution_count": null,
   "metadata": {},
   "outputs": [],
   "source": [
    "# lat/lng\n",
    "# enter lat / lng\n",
    "\n",
    "# Build the endpoint URL\n",
    "#target_url = \"https://maps.googleapis.com/maps/api/geocode/json?{lat}{lng}&key={api_key}\""
   ]
  },
  {
   "cell_type": "markdown",
   "metadata": {},
   "source": [
    "# Create URL for census data (Use geocoder?)\n",
    "## Use Census API for:\n",
    "### population age (will it already be calculated as a mean?)"
   ]
  },
  {
   "cell_type": "code",
   "execution_count": null,
   "metadata": {},
   "outputs": [],
   "source": []
  },
  {
   "cell_type": "markdown",
   "metadata": {},
   "source": [
    "# Create dataframe"
   ]
  },
  {
   "cell_type": "code",
   "execution_count": null,
   "metadata": {},
   "outputs": [],
   "source": []
  },
  {
   "cell_type": "markdown",
   "metadata": {},
   "source": [
    "# Analysis"
   ]
  },
  {
   "cell_type": "code",
   "execution_count": null,
   "metadata": {},
   "outputs": [],
   "source": []
  }
 ],
 "metadata": {
  "kernelspec": {
   "display_name": "Python 3",
   "language": "python",
   "name": "python3"
  },
  "language_info": {
   "codemirror_mode": {
    "name": "ipython",
    "version": 3
   },
   "file_extension": ".py",
   "mimetype": "text/x-python",
   "name": "python",
   "nbconvert_exporter": "python",
   "pygments_lexer": "ipython3",
   "version": "3.6.5"
  }
 },
 "nbformat": 4,
 "nbformat_minor": 2
}
