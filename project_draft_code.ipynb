{
 "cells": [
  {
   "cell_type": "code",
   "execution_count": 2,
   "metadata": {},
   "outputs": [],
   "source": [
    "#import libraries and api keys\n",
    "import pandas as pd\n",
    "import numpy as np\n",
    "import matplotlib.pyplot as plt\n",
    "import csv\n",
    "import os\n",
    "import requests\n",
    "import json\n",
    "\n",
    "#from keys.gitignore import \n",
    "#from keys import "
   ]
  },
  {
   "cell_type": "code",
   "execution_count": 3,
   "metadata": {},
   "outputs": [
    {
     "data": {
      "text/html": [
       "<div>\n",
       "<style scoped>\n",
       "    .dataframe tbody tr th:only-of-type {\n",
       "        vertical-align: middle;\n",
       "    }\n",
       "\n",
       "    .dataframe tbody tr th {\n",
       "        vertical-align: top;\n",
       "    }\n",
       "\n",
       "    .dataframe thead th {\n",
       "        text-align: right;\n",
       "    }\n",
       "</style>\n",
       "<table border=\"1\" class=\"dataframe\">\n",
       "  <thead>\n",
       "    <tr style=\"text-align: right;\">\n",
       "      <th></th>\n",
       "      <th>zip_code</th>\n",
       "      <th>distance</th>\n",
       "      <th>city</th>\n",
       "      <th>state</th>\n",
       "    </tr>\n",
       "  </thead>\n",
       "  <tbody>\n",
       "    <tr>\n",
       "      <th>0</th>\n",
       "      <td>44286</td>\n",
       "      <td>19.907</td>\n",
       "      <td>Richfield</td>\n",
       "      <td>OH</td>\n",
       "    </tr>\n",
       "    <tr>\n",
       "      <th>1</th>\n",
       "      <td>44233</td>\n",
       "      <td>18.982</td>\n",
       "      <td>Hinckley</td>\n",
       "      <td>OH</td>\n",
       "    </tr>\n",
       "    <tr>\n",
       "      <th>2</th>\n",
       "      <td>44141</td>\n",
       "      <td>15.561</td>\n",
       "      <td>Brecksville</td>\n",
       "      <td>OH</td>\n",
       "    </tr>\n",
       "    <tr>\n",
       "      <th>3</th>\n",
       "      <td>44136</td>\n",
       "      <td>15.988</td>\n",
       "      <td>Strongsville</td>\n",
       "      <td>OH</td>\n",
       "    </tr>\n",
       "    <tr>\n",
       "      <th>4</th>\n",
       "      <td>44087</td>\n",
       "      <td>18.933</td>\n",
       "      <td>Twinsburg</td>\n",
       "      <td>OH</td>\n",
       "    </tr>\n",
       "  </tbody>\n",
       "</table>\n",
       "</div>"
      ],
      "text/plain": [
       "  zip_code  distance          city state\n",
       "0    44286    19.907     Richfield    OH\n",
       "1    44233    18.982      Hinckley    OH\n",
       "2    44141    15.561   Brecksville    OH\n",
       "3    44136    15.988  Strongsville    OH\n",
       "4    44087    18.933     Twinsburg    OH"
      ]
     },
     "execution_count": 3,
     "metadata": {},
     "output_type": "execute_result"
    }
   ],
   "source": [
    "#load in csv files for each city\n",
    "cle_file = \"Zipcodes/Cleveland.csv\"\n",
    "cle_df = pd.read_csv(cle_file)\n",
    "cle_df[\"zip_code\"] = cle_df[\"zip_code\"].astype(str)\n",
    "cle_df.head()"
   ]
  },
  {
   "cell_type": "code",
   "execution_count": 4,
   "metadata": {},
   "outputs": [
    {
     "data": {
      "text/html": [
       "<div>\n",
       "<style scoped>\n",
       "    .dataframe tbody tr th:only-of-type {\n",
       "        vertical-align: middle;\n",
       "    }\n",
       "\n",
       "    .dataframe tbody tr th {\n",
       "        vertical-align: top;\n",
       "    }\n",
       "\n",
       "    .dataframe thead th {\n",
       "        text-align: right;\n",
       "    }\n",
       "</style>\n",
       "<table border=\"1\" class=\"dataframe\">\n",
       "  <thead>\n",
       "    <tr style=\"text-align: right;\">\n",
       "      <th></th>\n",
       "      <th>zip_code</th>\n",
       "      <th>zcta</th>\n",
       "    </tr>\n",
       "  </thead>\n",
       "  <tbody>\n",
       "    <tr>\n",
       "      <th>0</th>\n",
       "      <td>501</td>\n",
       "      <td>11742</td>\n",
       "    </tr>\n",
       "    <tr>\n",
       "      <th>1</th>\n",
       "      <td>544</td>\n",
       "      <td>11742</td>\n",
       "    </tr>\n",
       "    <tr>\n",
       "      <th>2</th>\n",
       "      <td>601</td>\n",
       "      <td>601</td>\n",
       "    </tr>\n",
       "    <tr>\n",
       "      <th>3</th>\n",
       "      <td>602</td>\n",
       "      <td>602</td>\n",
       "    </tr>\n",
       "    <tr>\n",
       "      <th>4</th>\n",
       "      <td>603</td>\n",
       "      <td>603</td>\n",
       "    </tr>\n",
       "  </tbody>\n",
       "</table>\n",
       "</div>"
      ],
      "text/plain": [
       "   zip_code   zcta\n",
       "0       501  11742\n",
       "1       544  11742\n",
       "2       601    601\n",
       "3       602    602\n",
       "4       603    603"
      ]
     },
     "execution_count": 4,
     "metadata": {},
     "output_type": "execute_result"
    }
   ],
   "source": [
    "#https://www.udsmapper.org/zcta-crosswalk.cfm\n",
    "#load in csv for ZTAC info\n",
    "zip_file = \"Zipcodes/zip_to_zcta_2018.csv\"\n",
    "zip_df = pd.read_csv(zip_file)\n",
    "zip_df.head()"
   ]
  },
  {
   "cell_type": "code",
   "execution_count": 5,
   "metadata": {},
   "outputs": [
    {
     "data": {
      "text/html": [
       "<div>\n",
       "<style scoped>\n",
       "    .dataframe tbody tr th:only-of-type {\n",
       "        vertical-align: middle;\n",
       "    }\n",
       "\n",
       "    .dataframe tbody tr th {\n",
       "        vertical-align: top;\n",
       "    }\n",
       "\n",
       "    .dataframe thead th {\n",
       "        text-align: right;\n",
       "    }\n",
       "</style>\n",
       "<table border=\"1\" class=\"dataframe\">\n",
       "  <thead>\n",
       "    <tr style=\"text-align: right;\">\n",
       "      <th></th>\n",
       "      <th>zip_code</th>\n",
       "      <th>zcta</th>\n",
       "    </tr>\n",
       "  </thead>\n",
       "  <tbody>\n",
       "    <tr>\n",
       "      <th>0</th>\n",
       "      <td>00501</td>\n",
       "      <td>11742</td>\n",
       "    </tr>\n",
       "    <tr>\n",
       "      <th>1</th>\n",
       "      <td>00544</td>\n",
       "      <td>11742</td>\n",
       "    </tr>\n",
       "    <tr>\n",
       "      <th>2</th>\n",
       "      <td>00601</td>\n",
       "      <td>00601</td>\n",
       "    </tr>\n",
       "    <tr>\n",
       "      <th>3</th>\n",
       "      <td>00602</td>\n",
       "      <td>00602</td>\n",
       "    </tr>\n",
       "    <tr>\n",
       "      <th>4</th>\n",
       "      <td>00603</td>\n",
       "      <td>00603</td>\n",
       "    </tr>\n",
       "  </tbody>\n",
       "</table>\n",
       "</div>"
      ],
      "text/plain": [
       "  zip_code   zcta\n",
       "0    00501  11742\n",
       "1    00544  11742\n",
       "2    00601  00601\n",
       "3    00602  00602\n",
       "4    00603  00603"
      ]
     },
     "execution_count": 5,
     "metadata": {},
     "output_type": "execute_result"
    }
   ],
   "source": [
    "#convert zip code to string to add back zeroes\n",
    "zip_df[\"zip_code\"] = zip_df[\"zip_code\"].astype(str)\n",
    "\n",
    "for index, row in zip_df.iterrows():\n",
    "    \n",
    "    length = len(zip_df.at[index, \"zip_code\"])\n",
    "    ZIP = zip_df.at[index, \"zip_code\"]\n",
    "    \n",
    "    if (5 - length) == 2:\n",
    "        new_zip = \"00\" + ZIP\n",
    "        zip_df.at[index, \"zip_code\"] = new_zip\n",
    "    else:\n",
    "        if (5 - length) == 1:\n",
    "            new_zip = \"0\" + ZIP\n",
    "            zip_df.at[index, \"zip_code\"] = new_zip\n",
    "\n",
    "#convert zcta to string to add back zeroes\n",
    "zip_df[\"zcta\"] = zip_df[\"zcta\"].astype(str)\n",
    "\n",
    "for index, row in zip_df.iterrows():\n",
    "    \n",
    "    length = len(zip_df.at[index, \"zcta\"])\n",
    "    ZCTA = zip_df.at[index, \"zcta\"]\n",
    "    \n",
    "    if (5 - length) == 2:\n",
    "        new_zcta = \"00\" + ZCTA\n",
    "        zip_df.at[index, \"zcta\"] = new_zcta\n",
    "    else:\n",
    "        if (5 - length) == 1:\n",
    "            new_zcta = \"0\" + ZCTA\n",
    "            zip_df.at[index, \"zcta\"] = new_zcta\n",
    "            \n",
    "zip_df.head()"
   ]
  },
  {
   "cell_type": "code",
   "execution_count": 6,
   "metadata": {},
   "outputs": [
    {
     "data": {
      "text/html": [
       "<div>\n",
       "<style scoped>\n",
       "    .dataframe tbody tr th:only-of-type {\n",
       "        vertical-align: middle;\n",
       "    }\n",
       "\n",
       "    .dataframe tbody tr th {\n",
       "        vertical-align: top;\n",
       "    }\n",
       "\n",
       "    .dataframe thead th {\n",
       "        text-align: right;\n",
       "    }\n",
       "</style>\n",
       "<table border=\"1\" class=\"dataframe\">\n",
       "  <thead>\n",
       "    <tr style=\"text-align: right;\">\n",
       "      <th></th>\n",
       "      <th>zip_code</th>\n",
       "      <th>distance</th>\n",
       "      <th>city</th>\n",
       "      <th>state</th>\n",
       "      <th>zcta</th>\n",
       "    </tr>\n",
       "  </thead>\n",
       "  <tbody>\n",
       "    <tr>\n",
       "      <th>0</th>\n",
       "      <td>44286</td>\n",
       "      <td>19.907</td>\n",
       "      <td>Richfield</td>\n",
       "      <td>OH</td>\n",
       "      <td>44286</td>\n",
       "    </tr>\n",
       "    <tr>\n",
       "      <th>1</th>\n",
       "      <td>44233</td>\n",
       "      <td>18.982</td>\n",
       "      <td>Hinckley</td>\n",
       "      <td>OH</td>\n",
       "      <td>44233</td>\n",
       "    </tr>\n",
       "    <tr>\n",
       "      <th>2</th>\n",
       "      <td>44141</td>\n",
       "      <td>15.561</td>\n",
       "      <td>Brecksville</td>\n",
       "      <td>OH</td>\n",
       "      <td>44141</td>\n",
       "    </tr>\n",
       "    <tr>\n",
       "      <th>3</th>\n",
       "      <td>44136</td>\n",
       "      <td>15.988</td>\n",
       "      <td>Strongsville</td>\n",
       "      <td>OH</td>\n",
       "      <td>44136</td>\n",
       "    </tr>\n",
       "    <tr>\n",
       "      <th>4</th>\n",
       "      <td>44087</td>\n",
       "      <td>18.933</td>\n",
       "      <td>Twinsburg</td>\n",
       "      <td>OH</td>\n",
       "      <td>44087</td>\n",
       "    </tr>\n",
       "  </tbody>\n",
       "</table>\n",
       "</div>"
      ],
      "text/plain": [
       "  zip_code  distance          city state   zcta\n",
       "0    44286    19.907     Richfield    OH  44286\n",
       "1    44233    18.982      Hinckley    OH  44233\n",
       "2    44141    15.561   Brecksville    OH  44141\n",
       "3    44136    15.988  Strongsville    OH  44136\n",
       "4    44087    18.933     Twinsburg    OH  44087"
      ]
     },
     "execution_count": 6,
     "metadata": {},
     "output_type": "execute_result"
    }
   ],
   "source": [
    "#join ZCTA data to city df\n",
    "cle_merge = pd.merge(cle_df, zip_df, on=\"zip_code\")\n",
    "cle_merge.head()"
   ]
  },
  {
   "cell_type": "code",
   "execution_count": 10,
   "metadata": {},
   "outputs": [
    {
     "data": {
      "text/html": [
       "<div>\n",
       "<style scoped>\n",
       "    .dataframe tbody tr th:only-of-type {\n",
       "        vertical-align: middle;\n",
       "    }\n",
       "\n",
       "    .dataframe tbody tr th {\n",
       "        vertical-align: top;\n",
       "    }\n",
       "\n",
       "    .dataframe thead th {\n",
       "        text-align: right;\n",
       "    }\n",
       "</style>\n",
       "<table border=\"1\" class=\"dataframe\">\n",
       "  <thead>\n",
       "    <tr style=\"text-align: right;\">\n",
       "      <th></th>\n",
       "      <th>zcta</th>\n",
       "      <th>median age</th>\n",
       "    </tr>\n",
       "  </thead>\n",
       "  <tbody>\n",
       "    <tr>\n",
       "      <th>0</th>\n",
       "      <td>00601</td>\n",
       "      <td>35.9</td>\n",
       "    </tr>\n",
       "    <tr>\n",
       "      <th>1</th>\n",
       "      <td>00602</td>\n",
       "      <td>37.5</td>\n",
       "    </tr>\n",
       "    <tr>\n",
       "      <th>2</th>\n",
       "      <td>00603</td>\n",
       "      <td>38.2</td>\n",
       "    </tr>\n",
       "    <tr>\n",
       "      <th>3</th>\n",
       "      <td>00606</td>\n",
       "      <td>36.2</td>\n",
       "    </tr>\n",
       "    <tr>\n",
       "      <th>4</th>\n",
       "      <td>00610</td>\n",
       "      <td>38.1</td>\n",
       "    </tr>\n",
       "  </tbody>\n",
       "</table>\n",
       "</div>"
      ],
      "text/plain": [
       "    zcta  median age\n",
       "0  00601        35.9\n",
       "1  00602        37.5\n",
       "2  00603        38.2\n",
       "3  00606        36.2\n",
       "4  00610        38.1"
      ]
     },
     "execution_count": 10,
     "metadata": {},
     "output_type": "execute_result"
    }
   ],
   "source": [
    "age_file = \"Zipcodes/DEC_10_SF1_QTP1_with_ann.csv\"\n",
    "age_df = pd.read_csv(age_file)\n",
    "\n",
    "#convert zcta to string to add back zeroes\n",
    "age_df[\"zcta\"] = age_df[\"zcta\"].astype(str)\n",
    "\n",
    "for index, row in age_df.iterrows():\n",
    "    \n",
    "    length = len(age_df.at[index, \"zcta\"])\n",
    "    ZCTA2 = age_df.at[index, \"zcta\"]\n",
    "    \n",
    "    if (5 - length) == 2:\n",
    "        new_zcta2 = \"00\" + ZCTA2\n",
    "        age_df.at[index, \"zcta\"] = new_zcta2\n",
    "    else:\n",
    "        if (5 - length) == 1:\n",
    "            new_zcta2 = \"0\" + ZCTA2\n",
    "            age_df.at[index, \"zcta\"] = new_zcta2\n",
    "\n",
    "age_df.head()"
   ]
  },
  {
   "cell_type": "code",
   "execution_count": 11,
   "metadata": {
    "scrolled": true
   },
   "outputs": [
    {
     "data": {
      "text/html": [
       "<div>\n",
       "<style scoped>\n",
       "    .dataframe tbody tr th:only-of-type {\n",
       "        vertical-align: middle;\n",
       "    }\n",
       "\n",
       "    .dataframe tbody tr th {\n",
       "        vertical-align: top;\n",
       "    }\n",
       "\n",
       "    .dataframe thead th {\n",
       "        text-align: right;\n",
       "    }\n",
       "</style>\n",
       "<table border=\"1\" class=\"dataframe\">\n",
       "  <thead>\n",
       "    <tr style=\"text-align: right;\">\n",
       "      <th></th>\n",
       "      <th>zip_code</th>\n",
       "      <th>distance</th>\n",
       "      <th>city</th>\n",
       "      <th>state</th>\n",
       "      <th>zcta</th>\n",
       "      <th>median age</th>\n",
       "    </tr>\n",
       "  </thead>\n",
       "  <tbody>\n",
       "    <tr>\n",
       "      <th>0</th>\n",
       "      <td>44286</td>\n",
       "      <td>19.907</td>\n",
       "      <td>Richfield</td>\n",
       "      <td>OH</td>\n",
       "      <td>44286</td>\n",
       "      <td>47.4</td>\n",
       "    </tr>\n",
       "    <tr>\n",
       "      <th>1</th>\n",
       "      <td>44233</td>\n",
       "      <td>18.982</td>\n",
       "      <td>Hinckley</td>\n",
       "      <td>OH</td>\n",
       "      <td>44233</td>\n",
       "      <td>45.3</td>\n",
       "    </tr>\n",
       "    <tr>\n",
       "      <th>2</th>\n",
       "      <td>44141</td>\n",
       "      <td>15.561</td>\n",
       "      <td>Brecksville</td>\n",
       "      <td>OH</td>\n",
       "      <td>44141</td>\n",
       "      <td>47.3</td>\n",
       "    </tr>\n",
       "    <tr>\n",
       "      <th>3</th>\n",
       "      <td>44136</td>\n",
       "      <td>15.988</td>\n",
       "      <td>Strongsville</td>\n",
       "      <td>OH</td>\n",
       "      <td>44136</td>\n",
       "      <td>43.5</td>\n",
       "    </tr>\n",
       "    <tr>\n",
       "      <th>4</th>\n",
       "      <td>44087</td>\n",
       "      <td>18.933</td>\n",
       "      <td>Twinsburg</td>\n",
       "      <td>OH</td>\n",
       "      <td>44087</td>\n",
       "      <td>40.8</td>\n",
       "    </tr>\n",
       "  </tbody>\n",
       "</table>\n",
       "</div>"
      ],
      "text/plain": [
       "  zip_code  distance          city state   zcta  median age\n",
       "0    44286    19.907     Richfield    OH  44286        47.4\n",
       "1    44233    18.982      Hinckley    OH  44233        45.3\n",
       "2    44141    15.561   Brecksville    OH  44141        47.3\n",
       "3    44136    15.988  Strongsville    OH  44136        43.5\n",
       "4    44087    18.933     Twinsburg    OH  44087        40.8"
      ]
     },
     "execution_count": 11,
     "metadata": {},
     "output_type": "execute_result"
    }
   ],
   "source": [
    "cle_final = pd.merge(cle_merge, age_df, on=\"zcta\")\n",
    "cle_final.head()"
   ]
  },
  {
   "cell_type": "code",
   "execution_count": 43,
   "metadata": {},
   "outputs": [
    {
     "data": {
      "text/plain": [
       "<matplotlib.collections.PathCollection at 0x1f530f2fbe0>"
      ]
     },
     "execution_count": 43,
     "metadata": {},
     "output_type": "execute_result"
    },
    {
     "data": {
      "image/png": "[encoded data removed]",
      "text/plain": [
       "<matplotlib.figure.Figure at 0x1f53085af60>"
      ]
     },
     "metadata": {},
     "output_type": "display_data"
    }
   ],
   "source": [
    "plt.scatter(cle_final['distance'],cle_final['median age'])"
   ]
  },
  {
   "cell_type": "code",
   "execution_count": null,
   "metadata": {},
   "outputs": [],
   "source": []
  },
  {
   "cell_type": "code",
   "execution_count": 158,
   "metadata": {},
   "outputs": [
    {
     "name": "stdout",
     "output_type": "stream",
     "text": [
      "model coefficient: 0\n",
      "model intercept: 31\n",
      "R_squared is: 0.4036711496156382\n"
     ]
    }
   ],
   "source": [
    "from sklearn.linear_model import Ridge\n",
    "from sklearn.preprocessing import PolynomialFeatures\n",
    "from sklearn.pipeline import make_pipeline\n",
    "from sklearn.model_selection import train_test_split\n",
    "from sklearn.metrics import r2_score\n",
    "\n",
    "X_train, X_test, y_train, y_test = train_test_split(cle_final['distance'],cle_final['median age'],test_size= 0.2, random_state = 1)\n",
    "\n",
    "# Model to fit a linear line\n",
    "model = Ridge()\n",
    "model.fit((X_train[:, np.newaxis]),y_train)\n",
    "xfit = np.linspace(0, 30,10 )\n",
    "yfit = model.predict(xfit[:, np.newaxis])\n",
    "print(f'model coefficient: {int(model.coef_)}')\n",
    "print(f'model intercept: {int(model.intercept_)}')\n",
    "y_predict = model.predict(X_test[:, np.newaxis])\n",
    "print (f'R_squared is: {r2_score(y_test,y_predict)}')"
   ]
  },
  {
   "cell_type": "code",
   "execution_count": 159,
   "metadata": {},
   "outputs": [
    {
     "data": {
      "image/png": "[encoded data removed]",
      "text/plain": [
       "<matplotlib.figure.Figure at 0x1f537fdbc50>"
      ]
     },
     "metadata": {},
     "output_type": "display_data"
    }
   ],
   "source": [
    "plt.scatter(X_train,y_train)\n",
    "plt.plot(xfit, yfit);"
   ]
  },
  {
   "cell_type": "code",
   "execution_count": 160,
   "metadata": {},
   "outputs": [
    {
     "name": "stdout",
     "output_type": "stream",
     "text": [
      "[ 0.          2.0339883  -0.05575654]\n",
      "26.908457871829693\n",
      "R_squared is: 0.47786199271836405\n"
     ]
    }
   ],
   "source": [
    "model_2 = make_pipeline(PolynomialFeatures(2),LinearRegression())\n",
    "model_2.fit((X_train[:, np.newaxis]),y_train)\n",
    "xfit = np.linspace(0, 20,10 )\n",
    "yfit = model_2.predict(xfit[:, np.newaxis])\n",
    "print(model_2.steps[1][1].coef_)\n",
    "print(model_2.steps[1][1].intercept_)\n",
    "# print(f'model coefficient: {int(model_2.coef_)}')\n",
    "# print(f'model intercept: {int(model_2.intercept_)}')\n",
    "y_predict = model_2.predict(X_test[:, np.newaxis])\n",
    "print (f'R_squared is: {r2_score(y_test,y_predict)}')"
   ]
  },
  {
   "cell_type": "code",
   "execution_count": 161,
   "metadata": {},
   "outputs": [
    {
     "data": {
      "image/png": "[encoded data removed]",
      "text/plain": [
       "<matplotlib.figure.Figure at 0x1f5383c1780>"
      ]
     },
     "metadata": {},
     "output_type": "display_data"
    }
   ],
   "source": [
    "plt.scatter(X_train,y_train)\n",
    "plt.plot(xfit, yfit);"
   ]
  },
  {
   "cell_type": "code",
   "execution_count": 156,
   "metadata": {},
   "outputs": [
    {
     "name": "stdout",
     "output_type": "stream",
     "text": [
      "                            OLS Regression Results                            \n",
      "==============================================================================\n",
      "Dep. Variable:             median age   R-squared:                       0.561\n",
      "Model:                            OLS   Adj. R-squared:                  0.549\n",
      "Method:                 Least Squares   F-statistic:                     47.85\n",
      "Date:                Thu, 13 Sep 2018   Prob (F-statistic):           4.03e-14\n",
      "Time:                        18:12:00   Log-Likelihood:                -230.23\n",
      "No. Observations:                  78   AIC:                             466.5\n",
      "Df Residuals:                      75   BIC:                             473.5\n",
      "Df Model:                           2                                         \n",
      "Covariance Type:            nonrobust                                         \n",
      "==============================================================================\n",
      "                 coef    std err          t      P>|t|      [0.025      0.975]\n",
      "------------------------------------------------------------------------------\n",
      "const         25.7891      1.930     13.366      0.000      21.945      29.633\n",
      "distance       2.2155      0.444      4.990      0.000       1.331       3.100\n",
      "distance_2    -0.0637      0.021     -3.004      0.004      -0.106      -0.021\n",
      "==============================================================================\n",
      "Omnibus:                        2.362   Durbin-Watson:                   1.034\n",
      "Prob(Omnibus):                  0.307   Jarque-Bera (JB):                1.646\n",
      "Skew:                           0.280   Prob(JB):                        0.439\n",
      "Kurtosis:                       3.438   Cond. No.                         632.\n",
      "==============================================================================\n",
      "\n",
      "Warnings:\n",
      "[1] Standard Errors assume that the covariance matrix of the errors is correctly specified.\n"
     ]
    }
   ],
   "source": [
    "import pandas as pd\n",
    "import numpy as np\n",
    "from sklearn import datasets, linear_model\n",
    "from sklearn.linear_model import LinearRegression\n",
    "import statsmodels.api as sm\n",
    "from scipy import stats\n",
    "\n",
    "# diabetes = datasets.load_diabetes()\n",
    "X = cle_final['distance']\n",
    "X_2 = X**2\n",
    "X_1=pd.DataFrame([X]).T\n",
    "X_1 ['distance_2'] = X_1['distance']**2\n",
    "# X_1 ['distance_3'] = X_1['distance']**3\n",
    "y = pd.DataFrame(cle_final['median age'])\n",
    "X2 = sm.add_constant(X_1)\n",
    "est = sm.OLS(y, X2)\n",
    "est2 = est.fit()\n",
    "print(est2.summary())\n"
   ]
  },
  {
   "cell_type": "code",
   "execution_count": 90,
   "metadata": {},
   "outputs": [
    {
     "name": "stdout",
     "output_type": "stream",
     "text": [
      "0.9147530450234507 30.53163337089044 0.7125911058252494 2.534363117431929e-13 0.1033079192125744\n"
     ]
    }
   ],
   "source": []
  },
  {
   "cell_type": "code",
   "execution_count": null,
   "metadata": {},
   "outputs": [],
   "source": []
  }
 ],
 "metadata": {
  "kernelspec": {
   "display_name": "Python 3",
   "language": "python",
   "name": "python3"
  },
  "language_info": {
   "codemirror_mode": {
    "name": "ipython",
    "version": 3
   },
   "file_extension": ".py",
   "mimetype": "text/x-python",
   "name": "python",
   "nbconvert_exporter": "python",
   "pygments_lexer": "ipython3",
   "version": "3.6.4"
  }
 },
 "nbformat": 4,
 "nbformat_minor": 2
}
